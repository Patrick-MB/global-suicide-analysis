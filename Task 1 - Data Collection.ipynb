{
  "cells": [
    {
      "cell_type": "markdown",
      "id": "9af44abf",
      "metadata": {
        "id": "9af44abf"
      },
      "source": [
        "# Global Suicide Analysis - Task 1: Data Collection\n",
        "### - Patrick Mbanusi  \n",
        "In this assignment we will collect data on Suicide rates worlwide and additional related data.  "
      ]
    },
    {
      "cell_type": "code",
      "execution_count": 2,
      "id": "bb79a639",
      "metadata": {
        "id": "bb79a639"
      },
      "outputs": [],
      "source": [
        "import json, requests, urllib\n",
        "from pathlib import Path\n",
        "from datetime import datetime\n",
        "import pandas as pd\n",
        "import matplotlib\n",
        "import matplotlib.pyplot as plt\n",
        "%matplotlib inline"
      ]
    },
    {
      "cell_type": "markdown",
      "id": "445f0b53",
      "metadata": {
        "id": "445f0b53"
      },
      "source": [
        "Create directory for raw data storage, if it does not already exist:"
      ]
    },
    {
      "cell_type": "code",
      "execution_count": 3,
      "id": "e595cde7",
      "metadata": {
        "id": "e595cde7"
      },
      "outputs": [],
      "source": [
        "dir_raw = Path(\"raw\")\n",
        "dir_raw.mkdir(parents=True, exist_ok=True)"
      ]
    },
    {
      "cell_type": "markdown",
      "id": "cdbab158",
      "metadata": {
        "id": "cdbab158"
      },
      "source": [
        "## Data Collection"
      ]
    },
    {
      "cell_type": "markdown",
      "id": "23522e97",
      "metadata": {
        "id": "23522e97"
      },
      "source": [
        "All data is being collected from the World Health Organisation(WHO)"
      ]
    },
    {
      "cell_type": "markdown",
      "id": "75dc4678",
      "metadata": {
        "id": "75dc4678"
      },
      "source": [
        "This data being collected is crude suicide rates (per 100 000 population) over two decades(2000-2019). The dissaggregations are age, sex, country, region and year.   "
      ]
    },
    {
      "cell_type": "code",
      "execution_count": 5,
      "id": "186ab633",
      "metadata": {
        "id": "186ab633",
        "outputId": "106eb710-a352-43b0-828d-70939be76231",
        "scrolled": true
      },
      "outputs": [],
      "source": [
        "# retrieve data (JSON)\n",
        "# *this data does not need to fetched several times*\n",
        "url = \"https://ghoapi.azureedge.net/api/SDGSUICIDE\"\n",
        "response = urllib.request.urlopen(url)\n",
        "raw_json = response.read().decode(\"utf-8\")\n"
      ]
    },
    {
      "cell_type": "code",
      "execution_count": 8,
      "id": "9a78a68d",
      "metadata": {
        "id": "9a78a68d",
        "outputId": "4d596d30-642e-4e32-eb35-2cb60688f9e4",
        "scrolled": true
      },
      "outputs": [
        {
          "name": "stdout",
          "output_type": "stream",
          "text": [
            "{'Id': 26130097, 'IndicatorCode': 'SDGSUICIDE', 'SpatialDimType': 'COUNTRY', 'SpatialDim': 'AUT', 'ParentLocationCode': 'EUR', 'TimeDimType': 'YEAR', 'ParentLocation': 'Europe', 'Dim1Type': 'SEX', 'Dim1': 'BTSX', 'TimeDim': 2019, 'Dim2Type': 'AGEGROUP', 'Dim2': 'YEARS15-24', 'Dim3Type': None, 'Dim3': None, 'DataSourceDimType': None, 'DataSourceDim': None, 'Value': '7.8', 'NumericValue': 7.77, 'Low': None, 'High': None, 'Comments': None, 'Date': '2021-07-06T14:13:43.367+02:00', 'TimeDimensionValue': '2019', 'TimeDimensionBegin': '2019-01-01T00:00:00+01:00', 'TimeDimensionEnd': '2019-12-31T00:00:00+01:00'}\n"
          ]
        }
      ],
      "source": [
        "# laod data into a dict\n",
        "data = json.loads(raw_json)\n",
        "# save relevant list of dicts (called \"value\")\n",
        "data = data[\"value\"]\n",
        "print(data[0])"
      ]
    },
    {
      "cell_type": "markdown",
      "id": "6b540614",
      "metadata": {
        "id": "6b540614"
      },
      "source": [
        "As the name of the countries are shown only as abbreviations and the regions are not specified, we will get this from anoter set of data:"
      ]
    },
    {
      "cell_type": "code",
      "execution_count": 7,
      "id": "5ed8f488",
      "metadata": {
        "id": "5ed8f488"
      },
      "outputs": [],
      "source": [
        "# retrieve country data\n",
        "url = \"https://ghoapi.azureedge.net/api/DIMENSION/COUNTRY/DimensionValues\"\n",
        "response = urllib.request.urlopen(url)\n",
        "raw_json2 = response.read().decode(\"utf-8\")"
      ]
    },
    {
      "cell_type": "code",
      "execution_count": 11,
      "id": "1db07d05",
      "metadata": {
        "id": "1db07d05",
        "outputId": "96d8b25b-dd12-473b-b68b-e5cbe179944a"
      },
      "outputs": [
        {
          "data": {
            "text/plain": [
              "{'Code': 'ABW',\n",
              " 'Title': 'Aruba',\n",
              " 'Dimension': 'COUNTRY',\n",
              " 'ParentDimension': 'REGION',\n",
              " 'ParentCode': 'AMR',\n",
              " 'ParentTitle': 'Americas'}"
            ]
          },
          "execution_count": 11,
          "metadata": {},
          "output_type": "execute_result"
        }
      ],
      "source": [
        "# laod country data into a dict\n",
        "country_data = json.loads(raw_json2)\n",
        "# save relevant list of dicts (called \"value\")\n",
        "country_data = country_data[\"value\"]\n",
        "# print list\n",
        "country_data[0]"
      ]
    },
    {
      "cell_type": "markdown",
      "id": "90f7e854",
      "metadata": {
        "id": "90f7e854"
      },
      "source": [
        "Make dict to store country/region abbreviations to country/region names:"
      ]
    },
    {
      "cell_type": "code",
      "execution_count": 12,
      "id": "4e4e270b",
      "metadata": {
        "id": "4e4e270b",
        "outputId": "02595172-c1d8-44c3-b0d1-d5d1bca9ae54",
        "scrolled": true
      },
      "outputs": [
        {
          "name": "stdout",
          "output_type": "stream",
          "text": [
            "ABW: Aruba\n",
            "AMR: Americas\n",
            "AFG: Afghanistan\n",
            "EMR: Eastern Mediterranean\n",
            "AGO: Angola\n"
          ]
        }
      ],
      "source": [
        "dict_country = {}\n",
        "for x in range(len(country_data)):\n",
        "    dict_country[country_data[x][\"Code\"]] = country_data[x][\"Title\"]\n",
        "    dict_country[country_data[x][\"ParentCode\"]] = country_data[x][\"ParentTitle\"]\n",
        "\n",
        "# print examples from data\n",
        "print(\"\\n\".join([f\"{key}: {value}\" for i, (key, value) in enumerate(dict_country.items()) if i < 5]))\n"
      ]
    },
    {
      "cell_type": "markdown",
      "id": "95c151bf",
      "metadata": {
        "id": "95c151bf"
      },
      "source": [
        "Make dict to store country to it's respective regions:"
      ]
    },
    {
      "cell_type": "code",
      "execution_count": 13,
      "id": "235f5517",
      "metadata": {
        "id": "235f5517",
        "outputId": "98b57a6d-6158-4b43-a35d-84de97e07b87"
      },
      "outputs": [
        {
          "name": "stdout",
          "output_type": "stream",
          "text": [
            "ABW: Americas\n",
            "AMR: Americas\n",
            "AFG: Eastern Mediterranean\n",
            "EMR: Eastern Mediterranean\n",
            "AGO: Africa\n"
          ]
        }
      ],
      "source": [
        "dict_region = {}\n",
        "for x in range(len(country_data)):\n",
        "        dict_region[country_data[x][\"Code\"]] = country_data[x][\"ParentTitle\"]\n",
        "        dict_region[country_data[x][\"ParentCode\"]] = country_data[x][\"ParentTitle\"]\n",
        "\n",
        "# print examples from data\n",
        "print(\"\\n\".join([f\"{key}: {value}\" for i, (key, value) in enumerate(dict_region.items()) if i < 5]))\n"
      ]
    },
    {
      "cell_type": "code",
      "execution_count": 14,
      "id": "d25cbec8",
      "metadata": {
        "id": "d25cbec8",
        "outputId": "96d3cb04-8205-4370-8170-09571a40fa81"
      },
      "outputs": [
        {
          "data": {
            "text/plain": [
              "['ABW', 'AMR', 'AFG', 'EMR', 'AGO', 'AFR', 'AIA', 'ALB', 'EUR', 'AND']"
            ]
          },
          "execution_count": 14,
          "metadata": {},
          "output_type": "execute_result"
        }
      ],
      "source": [
        "# make list of all valid values(codes) that SpatialDim should retunred\n",
        "valid_list = list(dict_country)\n",
        "valid_list[:10]"
      ]
    },
    {
      "cell_type": "markdown",
      "id": "2af56aac",
      "metadata": {
        "id": "2af56aac"
      },
      "source": [
        "Note: This process of adding countries and regions to our dicts could be done in Task 2 (under preprocessing) but it is logical to complete it here as we had to collect data from another dataset in order to do it and thus categorising countries in Task 1 will be more efficient instead of storing 'dict_country' and 'dict_region' as JSON files alongside the main data.  "
      ]
    },
    {
      "cell_type": "markdown",
      "id": "042acf7e",
      "metadata": {
        "id": "042acf7e"
      },
      "source": [
        "We will spilt the 'Americas' region into North and South America."
      ]
    },
    {
      "cell_type": "markdown",
      "id": "391c709f",
      "metadata": {
        "id": "391c709f"
      },
      "source": [
        "*Although geographically in North America, we will include Mexico in the South American region as it is more culturally appropriate.  "
      ]
    },
    {
      "cell_type": "code",
      "execution_count": 15,
      "id": "55b5df6f",
      "metadata": {
        "id": "55b5df6f"
      },
      "outputs": [],
      "source": [
        "# make list of South American countries\n",
        "SA_list = [\"Argentina\", \"Bolivia (Plurinational State of)\", \"Brazil\", \"Chile\",\n",
        "           \"Colombia\", \"Costa Rica\", \"Ecuador\", \"El Salvador\", \"Guatemala\",\n",
        "           \"Honduras\", \"Mexico\", \"Nicaragua\", \"Panama\", \"Paraguay\", \"Peru\",\n",
        "           \"Dominican Republic\", \"Uruguay\", \"Guyana\"]"
      ]
    },
    {
      "cell_type": "markdown",
      "id": "d987bdca",
      "metadata": {
        "id": "d987bdca"
      },
      "source": [
        "Now we will add all country and regions to our list of dictionaries 'data':"
      ]
    },
    {
      "cell_type": "code",
      "execution_count": 16,
      "id": "3ea9d33f",
      "metadata": {
        "id": "3ea9d33f",
        "outputId": "ef914a09-8656-49fa-f48e-b17111a2cc3a"
      },
      "outputs": [
        {
          "data": {
            "text/plain": [
              "{'Id': 30308242,\n",
              " 'IndicatorCode': 'SDGSUICIDE',\n",
              " 'SpatialDimType': 'COUNTRY',\n",
              " 'SpatialDim': 'PRK',\n",
              " 'ParentLocationCode': 'SEAR',\n",
              " 'TimeDimType': 'YEAR',\n",
              " 'ParentLocation': 'South-East Asia',\n",
              " 'Dim1Type': 'SEX',\n",
              " 'Dim1': 'BTSX',\n",
              " 'TimeDim': 2001,\n",
              " 'Dim2Type': 'AGEGROUP',\n",
              " 'Dim2': 'YEARSALL',\n",
              " 'Dim3Type': None,\n",
              " 'Dim3': None,\n",
              " 'DataSourceDimType': None,\n",
              " 'DataSourceDim': None,\n",
              " 'Value': '9.5 [5.5-15.5]',\n",
              " 'NumericValue': 9.54,\n",
              " 'Low': 5.48,\n",
              " 'High': 15.4521,\n",
              " 'Comments': None,\n",
              " 'Date': '2022-12-08T16:19:00.19+01:00',\n",
              " 'TimeDimensionValue': '2001',\n",
              " 'TimeDimensionBegin': '2001-01-01T00:00:00+01:00',\n",
              " 'TimeDimensionEnd': '2001-12-31T00:00:00+01:00',\n",
              " 'Country': \"Democratic People's Republic of Korea\",\n",
              " 'Region': 'South-East Asia'}"
            ]
          },
          "execution_count": 16,
          "metadata": {},
          "output_type": "execute_result"
        }
      ],
      "source": [
        "# Note: Some values in SpatialDim are actually regions, we will still save these regions as countries.\n",
        "# we will also seperate Americas accordingly\n",
        "# if value is neither country or region(not in valid_list) then make value None\n",
        "for x in range(len(data)):\n",
        "    if data[x][\"SpatialDim\"] not in valid_list:\n",
        "        data[x][\"Country\"] = None\n",
        "        data[x][\"Region\"] = None\n",
        "    elif dict_region[data[x][\"SpatialDim\"]] == \"Americas\":\n",
        "        if dict_country[data[x][\"SpatialDim\"]] in SA_list:\n",
        "            data[x][\"Country\"] = dict_country[data[x][\"SpatialDim\"]]\n",
        "            data[x][\"Region\"] = \"South America\"\n",
        "            data[x][\"SpatialDim\"] = \"SA\"\n",
        "        else:\n",
        "            data[x][\"Country\"] = dict_country[data[x][\"SpatialDim\"]]\n",
        "            data[x][\"Region\"] = \"North America\"\n",
        "            data[x][\"SpatialDim\"] = \"NA\"\n",
        "    else:\n",
        "        data[x][\"Country\"] = dict_country[data[x][\"SpatialDim\"]]\n",
        "        data[x][\"Region\"] = dict_region[data[x][\"SpatialDim\"]]\n",
        "\n",
        "# print example output with country and region added\n",
        "data[14032]"
      ]
    },
    {
      "cell_type": "markdown",
      "id": "dbbb04cd",
      "metadata": {
        "id": "dbbb04cd"
      },
      "source": [
        "Collected data displayed in a Pandas dataframe:"
      ]
    },
    {
      "cell_type": "code",
      "execution_count": null,
      "id": "2421d5b6",
      "metadata": {
        "id": "2421d5b6",
        "outputId": "2e01a746-881f-4e6f-fa3c-dc8ccadb820a",
        "scrolled": true
      },
      "outputs": [
        {
          "data": {
            "text/html": [
              "<div>\n",
              "<style scoped>\n",
              "    .dataframe tbody tr th:only-of-type {\n",
              "        vertical-align: middle;\n",
              "    }\n",
              "\n",
              "    .dataframe tbody tr th {\n",
              "        vertical-align: top;\n",
              "    }\n",
              "\n",
              "    .dataframe thead th {\n",
              "        text-align: right;\n",
              "    }\n",
              "</style>\n",
              "<table border=\"1\" class=\"dataframe\">\n",
              "  <thead>\n",
              "    <tr style=\"text-align: right;\">\n",
              "      <th></th>\n",
              "      <th>SpatialDim</th>\n",
              "      <th>TimeDim</th>\n",
              "      <th>Dim1</th>\n",
              "      <th>Dim2Type</th>\n",
              "      <th>Dim2</th>\n",
              "      <th>Value</th>\n",
              "      <th>Country</th>\n",
              "      <th>Region</th>\n",
              "    </tr>\n",
              "    <tr>\n",
              "      <th>NumericValue</th>\n",
              "      <th></th>\n",
              "      <th></th>\n",
              "      <th></th>\n",
              "      <th></th>\n",
              "      <th></th>\n",
              "      <th></th>\n",
              "      <th></th>\n",
              "      <th></th>\n",
              "    </tr>\n",
              "  </thead>\n",
              "  <tbody>\n",
              "    <tr>\n",
              "      <th>147.8102</th>\n",
              "      <td>LSO</td>\n",
              "      <td>2014</td>\n",
              "      <td>MLE</td>\n",
              "      <td>None</td>\n",
              "      <td>None</td>\n",
              "      <td>147.8 [56.7-258.0]</td>\n",
              "      <td>Lesotho</td>\n",
              "      <td>Africa</td>\n",
              "    </tr>\n",
              "    <tr>\n",
              "      <th>147.3488</th>\n",
              "      <td>LSO</td>\n",
              "      <td>2015</td>\n",
              "      <td>MLE</td>\n",
              "      <td>None</td>\n",
              "      <td>None</td>\n",
              "      <td>147.3 [56.2-258.8]</td>\n",
              "      <td>Lesotho</td>\n",
              "      <td>Africa</td>\n",
              "    </tr>\n",
              "    <tr>\n",
              "      <th>139.8896</th>\n",
              "      <td>LSO</td>\n",
              "      <td>2013</td>\n",
              "      <td>MLE</td>\n",
              "      <td>None</td>\n",
              "      <td>None</td>\n",
              "      <td>139.9 [53.7-243.4]</td>\n",
              "      <td>Lesotho</td>\n",
              "      <td>Africa</td>\n",
              "    </tr>\n",
              "    <tr>\n",
              "      <th>139.5874</th>\n",
              "      <td>LSO</td>\n",
              "      <td>2016</td>\n",
              "      <td>MLE</td>\n",
              "      <td>None</td>\n",
              "      <td>None</td>\n",
              "      <td>139.6 [52.5-244.8]</td>\n",
              "      <td>Lesotho</td>\n",
              "      <td>Africa</td>\n",
              "    </tr>\n",
              "    <tr>\n",
              "      <th>127.2498</th>\n",
              "      <td>LSO</td>\n",
              "      <td>2017</td>\n",
              "      <td>MLE</td>\n",
              "      <td>None</td>\n",
              "      <td>None</td>\n",
              "      <td>127.2 [47.6-224.2]</td>\n",
              "      <td>Lesotho</td>\n",
              "      <td>Africa</td>\n",
              "    </tr>\n",
              "    <tr>\n",
              "      <th>...</th>\n",
              "      <td>...</td>\n",
              "      <td>...</td>\n",
              "      <td>...</td>\n",
              "      <td>...</td>\n",
              "      <td>...</td>\n",
              "      <td>...</td>\n",
              "      <td>...</td>\n",
              "      <td>...</td>\n",
              "    </tr>\n",
              "    <tr>\n",
              "      <th>0.0000</th>\n",
              "      <td>NA</td>\n",
              "      <td>2018</td>\n",
              "      <td>MLE</td>\n",
              "      <td>None</td>\n",
              "      <td>None</td>\n",
              "      <td>0.0 [0.0-0.0]</td>\n",
              "      <td>None</td>\n",
              "      <td>None</td>\n",
              "    </tr>\n",
              "    <tr>\n",
              "      <th>0.0000</th>\n",
              "      <td>NA</td>\n",
              "      <td>2007</td>\n",
              "      <td>FMLE</td>\n",
              "      <td>None</td>\n",
              "      <td>None</td>\n",
              "      <td>0.0 [0.0-0.0]</td>\n",
              "      <td>None</td>\n",
              "      <td>None</td>\n",
              "    </tr>\n",
              "    <tr>\n",
              "      <th>0.0000</th>\n",
              "      <td>NA</td>\n",
              "      <td>2019</td>\n",
              "      <td>MLE</td>\n",
              "      <td>None</td>\n",
              "      <td>None</td>\n",
              "      <td>0.0 [0.0-0.0]</td>\n",
              "      <td>None</td>\n",
              "      <td>None</td>\n",
              "    </tr>\n",
              "    <tr>\n",
              "      <th>0.0000</th>\n",
              "      <td>NA</td>\n",
              "      <td>2005</td>\n",
              "      <td>FMLE</td>\n",
              "      <td>None</td>\n",
              "      <td>None</td>\n",
              "      <td>0.0 [0.0-0.0]</td>\n",
              "      <td>None</td>\n",
              "      <td>None</td>\n",
              "    </tr>\n",
              "    <tr>\n",
              "      <th>0.0000</th>\n",
              "      <td>NA</td>\n",
              "      <td>2009</td>\n",
              "      <td>FMLE</td>\n",
              "      <td>None</td>\n",
              "      <td>None</td>\n",
              "      <td>0.0 [0.0-0.0]</td>\n",
              "      <td>None</td>\n",
              "      <td>None</td>\n",
              "    </tr>\n",
              "  </tbody>\n",
              "</table>\n",
              "<p>11640 rows × 8 columns</p>\n",
              "</div>"
            ],
            "text/plain": [
              "             SpatialDim  TimeDim  Dim1 Dim2Type  Dim2               Value  \\\n",
              "NumericValue                                                                \n",
              "147.8102            LSO     2014   MLE     None  None  147.8 [56.7-258.0]   \n",
              "147.3488            LSO     2015   MLE     None  None  147.3 [56.2-258.8]   \n",
              "139.8896            LSO     2013   MLE     None  None  139.9 [53.7-243.4]   \n",
              "139.5874            LSO     2016   MLE     None  None  139.6 [52.5-244.8]   \n",
              "127.2498            LSO     2017   MLE     None  None  127.2 [47.6-224.2]   \n",
              "...                 ...      ...   ...      ...   ...                 ...   \n",
              "0.0000               NA     2018   MLE     None  None       0.0 [0.0-0.0]   \n",
              "0.0000               NA     2007  FMLE     None  None       0.0 [0.0-0.0]   \n",
              "0.0000               NA     2019   MLE     None  None       0.0 [0.0-0.0]   \n",
              "0.0000               NA     2005  FMLE     None  None       0.0 [0.0-0.0]   \n",
              "0.0000               NA     2009  FMLE     None  None       0.0 [0.0-0.0]   \n",
              "\n",
              "              Country  Region  \n",
              "NumericValue                   \n",
              "147.8102      Lesotho  Africa  \n",
              "147.3488      Lesotho  Africa  \n",
              "139.8896      Lesotho  Africa  \n",
              "139.5874      Lesotho  Africa  \n",
              "127.2498      Lesotho  Africa  \n",
              "...               ...     ...  \n",
              "0.0000           None    None  \n",
              "0.0000           None    None  \n",
              "0.0000           None    None  \n",
              "0.0000           None    None  \n",
              "0.0000           None    None  \n",
              "\n",
              "[11640 rows x 8 columns]"
            ]
          },
          "execution_count": 55,
          "metadata": {},
          "output_type": "execute_result"
        }
      ],
      "source": [
        "# turn into pandas data frame and drop redunandant columns\n",
        "# indexed by highest suicide rate per 100 000 pop (Numeric Value)\n",
        "df = pd.DataFrame(data).drop([\"IndicatorCode\", \"Id\", \"SpatialDimType\", \"TimeDimType\", \"Dim1Type\",\n",
        "         \"Dim3Type\", \"Dim3\", \"DataSourceDimType\",\n",
        "        \"DataSourceDim\", \"Date\", \"TimeDimensionBegin\", \"TimeDimensionEnd\",\n",
        "        \"Comments\", \"TimeDimensionValue\", \"Low\", \"High\"], axis=1).set_index(\"NumericValue\")\n",
        "\n",
        "df[df[\"Dim2Type\"] != \"AGEGROUP\"].sort_values(by=[\"NumericValue\"], ascending = False)\n"
      ]
    },
    {
      "cell_type": "markdown",
      "id": "4c09091b",
      "metadata": {
        "id": "4c09091b"
      },
      "source": [
        "Finally, store data in JSON file:"
      ]
    },
    {
      "cell_type": "code",
      "execution_count": null,
      "id": "37d6a668",
      "metadata": {
        "id": "37d6a668",
        "outputId": "b2b4f9d5-1db0-45ab-fdef-20915e44788c"
      },
      "outputs": [
        {
          "name": "stdout",
          "output_type": "stream",
          "text": [
            "Length of data in Task 1 =  17679\n"
          ]
        }
      ],
      "source": [
        "# write it out to our raw dataset directory\n",
        "out_path = dir_raw / \"suicide_rates.json\"\n",
        "\n",
        "with open(out_path, \"w\") as file_object:\n",
        "    json.dump(data, file_object)\n",
        "\n",
        "# check data length and verify it in Task 2\n",
        "print(\"Length of data in Task 1 = \", len(data))"
      ]
    }
  ],
  "metadata": {
    "colab": {
      "provenance": []
    },
    "kernelspec": {
      "display_name": "Python 3 (ipykernel)",
      "language": "python",
      "name": "python3"
    },
    "language_info": {
      "codemirror_mode": {
        "name": "ipython",
        "version": 3
      },
      "file_extension": ".py",
      "mimetype": "text/x-python",
      "name": "python",
      "nbconvert_exporter": "python",
      "pygments_lexer": "ipython3",
      "version": "3.9.12"
    }
  },
  "nbformat": 4,
  "nbformat_minor": 5
}
