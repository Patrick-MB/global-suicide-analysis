{
 "cells": [
  {
   "cell_type": "markdown",
   "id": "87f1f03c",
   "metadata": {},
   "source": [
    "# COMP30760 Assignment 1 - Task 2 | 20456362\n",
    "\n",
    "In Task 1 we collected data on suicde rates worlwide.\n",
    "\n",
    "This notebook covers Task 2 - Data Preparation and Analysis. We will use all of the JSON data collected during Task 1 to perform the analysis process."
   ]
  },
  {
   "cell_type": "code",
   "execution_count": 1853,
   "id": "98161793",
   "metadata": {},
   "outputs": [],
   "source": [
    "import json\n",
    "from pathlib import Path\n",
    "from datetime import datetime\n",
    "import pandas as pd\n",
    "from sklearn.metrics.pairwise import euclidean_distances\n",
    "import numpy as np\n",
    "import matplotlib\n",
    "import matplotlib.pyplot as plt\n",
    "import matplotlib.dates as mdates\n",
    "import matplotlib.ticker as ticker\n",
    "from pandas.plotting import scatter_matrix\n",
    "import seaborn as sns\n",
    "%matplotlib inline"
   ]
  },
  {
   "cell_type": "markdown",
   "id": "3807d3a7",
   "metadata": {},
   "source": [
    "Directories for data storage:"
   ]
  },
  {
   "cell_type": "code",
   "execution_count": 1854,
   "id": "c6bb2ace",
   "metadata": {},
   "outputs": [],
   "source": [
    "# directory for raw data storage\n",
    "dir_raw = Path(\"raw\")\n",
    "# directory for storing clean pre-processed data\n",
    "dir_data = Path(\"data\")\n",
    "# make sure it exists\n",
    "dir_data.mkdir(parents=True, exist_ok=True)"
   ]
  },
  {
   "cell_type": "markdown",
   "id": "57978e26",
   "metadata": {},
   "source": [
    "## Data Preprocessing "
   ]
  },
  {
   "cell_type": "markdown",
   "id": "0d10d2cf",
   "metadata": {},
   "source": [
    "Before we can analyse the data, we need to transform it into a usable format. In this case we will load data into a list of dictionaries. "
   ]
  },
  {
   "cell_type": "code",
   "execution_count": 1855,
   "id": "1dd1eb21",
   "metadata": {},
   "outputs": [
    {
     "name": "stdout",
     "output_type": "stream",
     "text": [
      "Length of raw data =  17679\n"
     ]
    },
    {
     "data": {
      "text/plain": [
       "{'Id': 26307652,\n",
       " 'IndicatorCode': 'SDGSUICIDE',\n",
       " 'SpatialDimType': 'COUNTRY',\n",
       " 'SpatialDim': 'ZWE',\n",
       " 'TimeDimType': 'YEAR',\n",
       " 'TimeDim': 2019,\n",
       " 'Dim1Type': 'SEX',\n",
       " 'Dim1': 'MLE',\n",
       " 'Dim2Type': 'AGEGROUP',\n",
       " 'Dim2': 'YEARS30-49',\n",
       " 'Dim3Type': None,\n",
       " 'Dim3': None,\n",
       " 'DataSourceDimType': None,\n",
       " 'DataSourceDim': None,\n",
       " 'Value': '37.0',\n",
       " 'NumericValue': 37.03,\n",
       " 'Low': None,\n",
       " 'High': None,\n",
       " 'Comments': None,\n",
       " 'Date': '2021-07-16T09:31:37.29+02:00',\n",
       " 'TimeDimensionValue': '2019',\n",
       " 'TimeDimensionBegin': '2019-01-01T00:00:00+01:00',\n",
       " 'TimeDimensionEnd': '2019-12-31T00:00:00+01:00',\n",
       " 'Country': 'Zimbabwe',\n",
       " 'Region': 'Africa'}"
      ]
     },
     "execution_count": 1855,
     "metadata": {},
     "output_type": "execute_result"
    }
   ],
   "source": [
    "# read in from  our raw dataset directory \n",
    "in_path = dir_raw / \"suicide_rates.json\"\n",
    "\n",
    "with open(in_path, \"r\") as file_object:  \n",
    "    raw_data = json.load(file_object)  \n",
    "\n",
    "# verify raw data has been successfully read in by checking the size \n",
    "# against size of same dataset in Task 1    \n",
    "print(\"Length of raw data = \", len(raw_data))\n",
    "raw_data[17678]"
   ]
  },
  {
   "cell_type": "markdown",
   "id": "42152e5c",
   "metadata": {},
   "source": [
    "### Data Cleansing and Filtration "
   ]
  },
  {
   "cell_type": "markdown",
   "id": "9223cbcf",
   "metadata": {},
   "source": [
    "Now we can start cleansing all the redundant pieces of data. "
   ]
  },
  {
   "cell_type": "markdown",
   "id": "2d1e712e",
   "metadata": {},
   "source": [
    "Before we turn our data into a Pandas df, we have some data categorised by country's GNI (Gross National Income) per captia. We will add the meaning of the abbreviations(in 'SpatialDim') to the 'Region' using a dict."
   ]
  },
  {
   "cell_type": "markdown",
   "id": "7a29ef97",
   "metadata": {},
   "source": [
    "Make dict for all economy types:"
   ]
  },
  {
   "cell_type": "code",
   "execution_count": 1856,
   "id": "c30e95b1",
   "metadata": {},
   "outputs": [],
   "source": [
    "# dictionary for World Bank Income Abbreviations \n",
    "dict_WB = {\"WB_HI\":\"High-income economies\", \"WB_LI\":\"Low-income economies\",\n",
    "          \"WB_LMI\":\"Lower-middle-income economies\", \"WB_UMI\":\"Upper-middle-income economies\"}"
   ]
  },
  {
   "cell_type": "markdown",
   "id": "59618edd",
   "metadata": {},
   "source": [
    "Add economy type to Region column and \"GNI\" to Specification(Dim2Type) column:"
   ]
  },
  {
   "cell_type": "code",
   "execution_count": 1857,
   "id": "b5a81e72",
   "metadata": {},
   "outputs": [
    {
     "data": {
      "text/plain": [
       "{'Id': 25429853,\n",
       " 'IndicatorCode': 'SDGSUICIDE',\n",
       " 'SpatialDimType': 'WORLDBANKINCOMEGROUP',\n",
       " 'SpatialDim': 'WB_UMI',\n",
       " 'TimeDimType': 'YEAR',\n",
       " 'TimeDim': 2012,\n",
       " 'Dim1Type': 'SEX',\n",
       " 'Dim1': 'FMLE',\n",
       " 'Dim2Type': 'GNI per capita',\n",
       " 'Dim2': None,\n",
       " 'Dim3Type': None,\n",
       " 'Dim3': None,\n",
       " 'DataSourceDimType': None,\n",
       " 'DataSourceDim': None,\n",
       " 'Value': '5.6 [4.8-6.8]',\n",
       " 'NumericValue': 5.62,\n",
       " 'Low': 4.82,\n",
       " 'High': 6.82,\n",
       " 'Comments': None,\n",
       " 'Date': '2021-02-09T17:28:03.937+01:00',\n",
       " 'TimeDimensionValue': '2012',\n",
       " 'TimeDimensionBegin': '2012-01-01T00:00:00+01:00',\n",
       " 'TimeDimensionEnd': '2012-12-31T00:00:00+01:00',\n",
       " 'Country': None,\n",
       " 'Region': 'Upper-middle-income economies'}"
      ]
     },
     "execution_count": 1857,
     "metadata": {},
     "output_type": "execute_result"
    }
   ],
   "source": [
    "for x in range(len(raw_data)):\n",
    "    # if SpatialDim is in dict then change Specification to GNI and Region to economy type \n",
    "    if raw_data[x][\"SpatialDim\"] in dict_WB:\n",
    "        raw_data[x][\"Region\"] = dict_WB.get(raw_data[x][\"SpatialDim\"])\n",
    "        raw_data[x][\"Dim2Type\"] = \"GNI per capita\"\n",
    "\n",
    "# print out example \n",
    "raw_data[11515]"
   ]
  },
  {
   "cell_type": "markdown",
   "id": "716152b5",
   "metadata": {},
   "source": [
    " We will turn our raw data into a Pandas dataframe and proceed:"
   ]
  },
  {
   "cell_type": "code",
   "execution_count": 1858,
   "id": "cee4c875",
   "metadata": {},
   "outputs": [
    {
     "data": {
      "text/html": [
       "<div>\n",
       "<style scoped>\n",
       "    .dataframe tbody tr th:only-of-type {\n",
       "        vertical-align: middle;\n",
       "    }\n",
       "\n",
       "    .dataframe tbody tr th {\n",
       "        vertical-align: top;\n",
       "    }\n",
       "\n",
       "    .dataframe thead th {\n",
       "        text-align: right;\n",
       "    }\n",
       "</style>\n",
       "<table border=\"1\" class=\"dataframe\">\n",
       "  <thead>\n",
       "    <tr style=\"text-align: right;\">\n",
       "      <th></th>\n",
       "      <th>Id</th>\n",
       "      <th>IndicatorCode</th>\n",
       "      <th>SpatialDimType</th>\n",
       "      <th>SpatialDim</th>\n",
       "      <th>TimeDimType</th>\n",
       "      <th>TimeDim</th>\n",
       "      <th>Dim1Type</th>\n",
       "      <th>Dim1</th>\n",
       "      <th>Dim2Type</th>\n",
       "      <th>Dim2</th>\n",
       "      <th>...</th>\n",
       "      <th>NumericValue</th>\n",
       "      <th>Low</th>\n",
       "      <th>High</th>\n",
       "      <th>Comments</th>\n",
       "      <th>Date</th>\n",
       "      <th>TimeDimensionValue</th>\n",
       "      <th>TimeDimensionBegin</th>\n",
       "      <th>TimeDimensionEnd</th>\n",
       "      <th>Country</th>\n",
       "      <th>Region</th>\n",
       "    </tr>\n",
       "  </thead>\n",
       "  <tbody>\n",
       "    <tr>\n",
       "      <th>0</th>\n",
       "      <td>25258018</td>\n",
       "      <td>SDGSUICIDE</td>\n",
       "      <td>COUNTRY</td>\n",
       "      <td>AFG</td>\n",
       "      <td>YEAR</td>\n",
       "      <td>2010</td>\n",
       "      <td>SEX</td>\n",
       "      <td>FMLE</td>\n",
       "      <td>None</td>\n",
       "      <td>None</td>\n",
       "      <td>...</td>\n",
       "      <td>3.88</td>\n",
       "      <td>2.26</td>\n",
       "      <td>6.23</td>\n",
       "      <td>None</td>\n",
       "      <td>2021-02-09T16:20:16.383+01:00</td>\n",
       "      <td>2010</td>\n",
       "      <td>2010-01-01T00:00:00+01:00</td>\n",
       "      <td>2010-12-31T00:00:00+01:00</td>\n",
       "      <td>Afghanistan</td>\n",
       "      <td>Eastern Mediterranean</td>\n",
       "    </tr>\n",
       "    <tr>\n",
       "      <th>1</th>\n",
       "      <td>25258019</td>\n",
       "      <td>SDGSUICIDE</td>\n",
       "      <td>COUNTRY</td>\n",
       "      <td>AFG</td>\n",
       "      <td>YEAR</td>\n",
       "      <td>2004</td>\n",
       "      <td>SEX</td>\n",
       "      <td>BTSX</td>\n",
       "      <td>None</td>\n",
       "      <td>None</td>\n",
       "      <td>...</td>\n",
       "      <td>5.03</td>\n",
       "      <td>2.89</td>\n",
       "      <td>8.22</td>\n",
       "      <td>None</td>\n",
       "      <td>2021-02-09T16:20:16.413+01:00</td>\n",
       "      <td>2004</td>\n",
       "      <td>2004-01-01T00:00:00+01:00</td>\n",
       "      <td>2004-12-31T00:00:00+01:00</td>\n",
       "      <td>Afghanistan</td>\n",
       "      <td>Eastern Mediterranean</td>\n",
       "    </tr>\n",
       "    <tr>\n",
       "      <th>2</th>\n",
       "      <td>25258020</td>\n",
       "      <td>SDGSUICIDE</td>\n",
       "      <td>COUNTRY</td>\n",
       "      <td>AFG</td>\n",
       "      <td>YEAR</td>\n",
       "      <td>2007</td>\n",
       "      <td>SEX</td>\n",
       "      <td>BTSX</td>\n",
       "      <td>None</td>\n",
       "      <td>None</td>\n",
       "      <td>...</td>\n",
       "      <td>4.80</td>\n",
       "      <td>2.78</td>\n",
       "      <td>7.86</td>\n",
       "      <td>None</td>\n",
       "      <td>2021-02-09T16:20:16.43+01:00</td>\n",
       "      <td>2007</td>\n",
       "      <td>2007-01-01T00:00:00+01:00</td>\n",
       "      <td>2007-12-31T00:00:00+01:00</td>\n",
       "      <td>Afghanistan</td>\n",
       "      <td>Eastern Mediterranean</td>\n",
       "    </tr>\n",
       "    <tr>\n",
       "      <th>3</th>\n",
       "      <td>25258021</td>\n",
       "      <td>SDGSUICIDE</td>\n",
       "      <td>COUNTRY</td>\n",
       "      <td>AFG</td>\n",
       "      <td>YEAR</td>\n",
       "      <td>2001</td>\n",
       "      <td>SEX</td>\n",
       "      <td>MLE</td>\n",
       "      <td>None</td>\n",
       "      <td>None</td>\n",
       "      <td>...</td>\n",
       "      <td>5.22</td>\n",
       "      <td>2.93</td>\n",
       "      <td>8.65</td>\n",
       "      <td>None</td>\n",
       "      <td>2021-02-09T16:20:16.46+01:00</td>\n",
       "      <td>2001</td>\n",
       "      <td>2001-01-01T00:00:00+01:00</td>\n",
       "      <td>2001-12-31T00:00:00+01:00</td>\n",
       "      <td>Afghanistan</td>\n",
       "      <td>Eastern Mediterranean</td>\n",
       "    </tr>\n",
       "    <tr>\n",
       "      <th>4</th>\n",
       "      <td>25258022</td>\n",
       "      <td>SDGSUICIDE</td>\n",
       "      <td>COUNTRY</td>\n",
       "      <td>AFG</td>\n",
       "      <td>YEAR</td>\n",
       "      <td>2001</td>\n",
       "      <td>SEX</td>\n",
       "      <td>FMLE</td>\n",
       "      <td>None</td>\n",
       "      <td>None</td>\n",
       "      <td>...</td>\n",
       "      <td>4.84</td>\n",
       "      <td>2.79</td>\n",
       "      <td>7.77</td>\n",
       "      <td>None</td>\n",
       "      <td>2021-02-09T16:20:16.8+01:00</td>\n",
       "      <td>2001</td>\n",
       "      <td>2001-01-01T00:00:00+01:00</td>\n",
       "      <td>2001-12-31T00:00:00+01:00</td>\n",
       "      <td>Afghanistan</td>\n",
       "      <td>Eastern Mediterranean</td>\n",
       "    </tr>\n",
       "    <tr>\n",
       "      <th>...</th>\n",
       "      <td>...</td>\n",
       "      <td>...</td>\n",
       "      <td>...</td>\n",
       "      <td>...</td>\n",
       "      <td>...</td>\n",
       "      <td>...</td>\n",
       "      <td>...</td>\n",
       "      <td>...</td>\n",
       "      <td>...</td>\n",
       "      <td>...</td>\n",
       "      <td>...</td>\n",
       "      <td>...</td>\n",
       "      <td>...</td>\n",
       "      <td>...</td>\n",
       "      <td>...</td>\n",
       "      <td>...</td>\n",
       "      <td>...</td>\n",
       "      <td>...</td>\n",
       "      <td>...</td>\n",
       "      <td>...</td>\n",
       "      <td>...</td>\n",
       "    </tr>\n",
       "    <tr>\n",
       "      <th>17674</th>\n",
       "      <td>26307648</td>\n",
       "      <td>SDGSUICIDE</td>\n",
       "      <td>COUNTRY</td>\n",
       "      <td>ZMB</td>\n",
       "      <td>YEAR</td>\n",
       "      <td>2019</td>\n",
       "      <td>SEX</td>\n",
       "      <td>FMLE</td>\n",
       "      <td>AGEGROUP</td>\n",
       "      <td>YEARS30-49</td>\n",
       "      <td>...</td>\n",
       "      <td>4.22</td>\n",
       "      <td>NaN</td>\n",
       "      <td>NaN</td>\n",
       "      <td>None</td>\n",
       "      <td>2021-07-16T09:31:37.197+02:00</td>\n",
       "      <td>2019</td>\n",
       "      <td>2019-01-01T00:00:00+01:00</td>\n",
       "      <td>2019-12-31T00:00:00+01:00</td>\n",
       "      <td>Zambia</td>\n",
       "      <td>Africa</td>\n",
       "    </tr>\n",
       "    <tr>\n",
       "      <th>17675</th>\n",
       "      <td>26307649</td>\n",
       "      <td>SDGSUICIDE</td>\n",
       "      <td>COUNTRY</td>\n",
       "      <td>ZMB</td>\n",
       "      <td>YEAR</td>\n",
       "      <td>2019</td>\n",
       "      <td>SEX</td>\n",
       "      <td>MLE</td>\n",
       "      <td>AGEGROUP</td>\n",
       "      <td>YEARS30-49</td>\n",
       "      <td>...</td>\n",
       "      <td>24.94</td>\n",
       "      <td>NaN</td>\n",
       "      <td>NaN</td>\n",
       "      <td>None</td>\n",
       "      <td>2021-07-16T09:31:37.227+02:00</td>\n",
       "      <td>2019</td>\n",
       "      <td>2019-01-01T00:00:00+01:00</td>\n",
       "      <td>2019-12-31T00:00:00+01:00</td>\n",
       "      <td>Zambia</td>\n",
       "      <td>Africa</td>\n",
       "    </tr>\n",
       "    <tr>\n",
       "      <th>17676</th>\n",
       "      <td>26307650</td>\n",
       "      <td>SDGSUICIDE</td>\n",
       "      <td>COUNTRY</td>\n",
       "      <td>ZWE</td>\n",
       "      <td>YEAR</td>\n",
       "      <td>2019</td>\n",
       "      <td>SEX</td>\n",
       "      <td>BTSX</td>\n",
       "      <td>AGEGROUP</td>\n",
       "      <td>YEARS30-49</td>\n",
       "      <td>...</td>\n",
       "      <td>26.03</td>\n",
       "      <td>NaN</td>\n",
       "      <td>NaN</td>\n",
       "      <td>None</td>\n",
       "      <td>2021-07-16T09:31:37.243+02:00</td>\n",
       "      <td>2019</td>\n",
       "      <td>2019-01-01T00:00:00+01:00</td>\n",
       "      <td>2019-12-31T00:00:00+01:00</td>\n",
       "      <td>Zimbabwe</td>\n",
       "      <td>Africa</td>\n",
       "    </tr>\n",
       "    <tr>\n",
       "      <th>17677</th>\n",
       "      <td>26307651</td>\n",
       "      <td>SDGSUICIDE</td>\n",
       "      <td>COUNTRY</td>\n",
       "      <td>ZWE</td>\n",
       "      <td>YEAR</td>\n",
       "      <td>2019</td>\n",
       "      <td>SEX</td>\n",
       "      <td>FMLE</td>\n",
       "      <td>AGEGROUP</td>\n",
       "      <td>YEARS30-49</td>\n",
       "      <td>...</td>\n",
       "      <td>17.04</td>\n",
       "      <td>NaN</td>\n",
       "      <td>NaN</td>\n",
       "      <td>None</td>\n",
       "      <td>2021-07-16T09:31:37.273+02:00</td>\n",
       "      <td>2019</td>\n",
       "      <td>2019-01-01T00:00:00+01:00</td>\n",
       "      <td>2019-12-31T00:00:00+01:00</td>\n",
       "      <td>Zimbabwe</td>\n",
       "      <td>Africa</td>\n",
       "    </tr>\n",
       "    <tr>\n",
       "      <th>17678</th>\n",
       "      <td>26307652</td>\n",
       "      <td>SDGSUICIDE</td>\n",
       "      <td>COUNTRY</td>\n",
       "      <td>ZWE</td>\n",
       "      <td>YEAR</td>\n",
       "      <td>2019</td>\n",
       "      <td>SEX</td>\n",
       "      <td>MLE</td>\n",
       "      <td>AGEGROUP</td>\n",
       "      <td>YEARS30-49</td>\n",
       "      <td>...</td>\n",
       "      <td>37.03</td>\n",
       "      <td>NaN</td>\n",
       "      <td>NaN</td>\n",
       "      <td>None</td>\n",
       "      <td>2021-07-16T09:31:37.29+02:00</td>\n",
       "      <td>2019</td>\n",
       "      <td>2019-01-01T00:00:00+01:00</td>\n",
       "      <td>2019-12-31T00:00:00+01:00</td>\n",
       "      <td>Zimbabwe</td>\n",
       "      <td>Africa</td>\n",
       "    </tr>\n",
       "  </tbody>\n",
       "</table>\n",
       "<p>17679 rows × 25 columns</p>\n",
       "</div>"
      ],
      "text/plain": [
       "             Id IndicatorCode SpatialDimType SpatialDim TimeDimType  TimeDim  \\\n",
       "0      25258018    SDGSUICIDE        COUNTRY        AFG        YEAR     2010   \n",
       "1      25258019    SDGSUICIDE        COUNTRY        AFG        YEAR     2004   \n",
       "2      25258020    SDGSUICIDE        COUNTRY        AFG        YEAR     2007   \n",
       "3      25258021    SDGSUICIDE        COUNTRY        AFG        YEAR     2001   \n",
       "4      25258022    SDGSUICIDE        COUNTRY        AFG        YEAR     2001   \n",
       "...         ...           ...            ...        ...         ...      ...   \n",
       "17674  26307648    SDGSUICIDE        COUNTRY        ZMB        YEAR     2019   \n",
       "17675  26307649    SDGSUICIDE        COUNTRY        ZMB        YEAR     2019   \n",
       "17676  26307650    SDGSUICIDE        COUNTRY        ZWE        YEAR     2019   \n",
       "17677  26307651    SDGSUICIDE        COUNTRY        ZWE        YEAR     2019   \n",
       "17678  26307652    SDGSUICIDE        COUNTRY        ZWE        YEAR     2019   \n",
       "\n",
       "      Dim1Type  Dim1  Dim2Type        Dim2  ... NumericValue   Low  High  \\\n",
       "0          SEX  FMLE      None        None  ...         3.88  2.26  6.23   \n",
       "1          SEX  BTSX      None        None  ...         5.03  2.89  8.22   \n",
       "2          SEX  BTSX      None        None  ...         4.80  2.78  7.86   \n",
       "3          SEX   MLE      None        None  ...         5.22  2.93  8.65   \n",
       "4          SEX  FMLE      None        None  ...         4.84  2.79  7.77   \n",
       "...        ...   ...       ...         ...  ...          ...   ...   ...   \n",
       "17674      SEX  FMLE  AGEGROUP  YEARS30-49  ...         4.22   NaN   NaN   \n",
       "17675      SEX   MLE  AGEGROUP  YEARS30-49  ...        24.94   NaN   NaN   \n",
       "17676      SEX  BTSX  AGEGROUP  YEARS30-49  ...        26.03   NaN   NaN   \n",
       "17677      SEX  FMLE  AGEGROUP  YEARS30-49  ...        17.04   NaN   NaN   \n",
       "17678      SEX   MLE  AGEGROUP  YEARS30-49  ...        37.03   NaN   NaN   \n",
       "\n",
       "      Comments                           Date  TimeDimensionValue  \\\n",
       "0         None  2021-02-09T16:20:16.383+01:00                2010   \n",
       "1         None  2021-02-09T16:20:16.413+01:00                2004   \n",
       "2         None   2021-02-09T16:20:16.43+01:00                2007   \n",
       "3         None   2021-02-09T16:20:16.46+01:00                2001   \n",
       "4         None    2021-02-09T16:20:16.8+01:00                2001   \n",
       "...        ...                            ...                 ...   \n",
       "17674     None  2021-07-16T09:31:37.197+02:00                2019   \n",
       "17675     None  2021-07-16T09:31:37.227+02:00                2019   \n",
       "17676     None  2021-07-16T09:31:37.243+02:00                2019   \n",
       "17677     None  2021-07-16T09:31:37.273+02:00                2019   \n",
       "17678     None   2021-07-16T09:31:37.29+02:00                2019   \n",
       "\n",
       "              TimeDimensionBegin           TimeDimensionEnd      Country  \\\n",
       "0      2010-01-01T00:00:00+01:00  2010-12-31T00:00:00+01:00  Afghanistan   \n",
       "1      2004-01-01T00:00:00+01:00  2004-12-31T00:00:00+01:00  Afghanistan   \n",
       "2      2007-01-01T00:00:00+01:00  2007-12-31T00:00:00+01:00  Afghanistan   \n",
       "3      2001-01-01T00:00:00+01:00  2001-12-31T00:00:00+01:00  Afghanistan   \n",
       "4      2001-01-01T00:00:00+01:00  2001-12-31T00:00:00+01:00  Afghanistan   \n",
       "...                          ...                        ...          ...   \n",
       "17674  2019-01-01T00:00:00+01:00  2019-12-31T00:00:00+01:00       Zambia   \n",
       "17675  2019-01-01T00:00:00+01:00  2019-12-31T00:00:00+01:00       Zambia   \n",
       "17676  2019-01-01T00:00:00+01:00  2019-12-31T00:00:00+01:00     Zimbabwe   \n",
       "17677  2019-01-01T00:00:00+01:00  2019-12-31T00:00:00+01:00     Zimbabwe   \n",
       "17678  2019-01-01T00:00:00+01:00  2019-12-31T00:00:00+01:00     Zimbabwe   \n",
       "\n",
       "                      Region  \n",
       "0      Eastern Mediterranean  \n",
       "1      Eastern Mediterranean  \n",
       "2      Eastern Mediterranean  \n",
       "3      Eastern Mediterranean  \n",
       "4      Eastern Mediterranean  \n",
       "...                      ...  \n",
       "17674                 Africa  \n",
       "17675                 Africa  \n",
       "17676                 Africa  \n",
       "17677                 Africa  \n",
       "17678                 Africa  \n",
       "\n",
       "[17679 rows x 25 columns]"
      ]
     },
     "execution_count": 1858,
     "metadata": {},
     "output_type": "execute_result"
    }
   ],
   "source": [
    "df_raw = pd.DataFrame(raw_data)\n",
    "# initial dataframe\n",
    "df_raw"
   ]
  },
  {
   "cell_type": "markdown",
   "id": "d3396cb8",
   "metadata": {},
   "source": [
    "#### Deletions "
   ]
  },
  {
   "cell_type": "markdown",
   "id": "fd08af73",
   "metadata": {},
   "source": [
    "We will not need to delete any rows from our dataframe. <b>Some rows have empty columns (value = None) but that is only because that column is not applicable to that record of data.</b> "
   ]
  },
  {
   "cell_type": "markdown",
   "id": "a9a7ddf1",
   "metadata": {},
   "source": [
    "To <b>verify</b>, check if we have duplicate or empty rows. "
   ]
  },
  {
   "cell_type": "code",
   "execution_count": 1859,
   "id": "fbff07f4",
   "metadata": {},
   "outputs": [
    {
     "name": "stdout",
     "output_type": "stream",
     "text": [
      "Size of data before deletion = 17679\n",
      "Size of data after deletion = 17679\n"
     ]
    }
   ],
   "source": [
    "print(\"Size of data before deletion = %d\" % len(df_raw))\n",
    "# Drop rows with all empty cells \n",
    "df_raw.dropna(axis=0, how=\"all\", inplace=True)\n",
    "# Drop rows where all data is the same\n",
    "df_raw.drop_duplicates(inplace=True) \n",
    "print(\"Size of data after deletion = %d\" % len(df_raw))\n"
   ]
  },
  {
   "cell_type": "markdown",
   "id": "c240daf8",
   "metadata": {},
   "source": [
    "Delete redundant columns:"
   ]
  },
  {
   "cell_type": "code",
   "execution_count": 1860,
   "id": "a1e9630f",
   "metadata": {},
   "outputs": [],
   "source": [
    "df_raw.drop(columns = [\"Id\", \"IndicatorCode\", \"SpatialDimType\", \"TimeDimType\", \"Dim1Type\", \"Value\",\n",
    "             \"Dim3Type\", \"Dim3\", \"DataSourceDimType\", \"DataSourceDim\", \"Comments\", \"Date\", \"TimeDimensionBegin\", \n",
    "             \"TimeDimensionEnd\", \"Low\", \"High\", \"TimeDimensionValue\"], inplace=True)"
   ]
  },
  {
   "cell_type": "markdown",
   "id": "a33cb25d",
   "metadata": {},
   "source": [
    "#### Renaming and Reordering"
   ]
  },
  {
   "cell_type": "markdown",
   "id": "ded082c3",
   "metadata": {},
   "source": [
    "We will now reorder and rename columns where necessary to make data more structured and understandable."
   ]
  },
  {
   "cell_type": "code",
   "execution_count": 1861,
   "id": "148470d3",
   "metadata": {},
   "outputs": [],
   "source": [
    "# rename columns \n",
    "df_raw.rename(columns = {\"TimeDim\":\"Year\", \"Dim1\":\"Sex\", \"NumericValue\":\"Suicide Rate (per 100 000)\", \n",
    "                         \"Dim2Type\":\"Specification\", \"Dim2\":\"Age Group\"}, inplace =True)"
   ]
  },
  {
   "cell_type": "code",
   "execution_count": 1862,
   "id": "a413dccb",
   "metadata": {},
   "outputs": [],
   "source": [
    "# reorder columns\n",
    "df_raw = df_raw[[\"Country\", \"Year\", \"Sex\", \"Age Group\", \"Suicide Rate (per 100 000)\", \"Region\", \"Specification\", \"SpatialDim\"]]"
   ]
  },
  {
   "cell_type": "markdown",
   "id": "cbee2be9",
   "metadata": {},
   "source": [
    "<b>Note:</b> We will not set index to country yet as it will disable us in storing df in JSON file afterwards."
   ]
  },
  {
   "cell_type": "markdown",
   "id": "59e1c590",
   "metadata": {},
   "source": [
    "How our cleaned data currently looks: "
   ]
  },
  {
   "cell_type": "code",
   "execution_count": 1863,
   "id": "1a8af632",
   "metadata": {
    "scrolled": true
   },
   "outputs": [
    {
     "data": {
      "text/html": [
       "<div>\n",
       "<style scoped>\n",
       "    .dataframe tbody tr th:only-of-type {\n",
       "        vertical-align: middle;\n",
       "    }\n",
       "\n",
       "    .dataframe tbody tr th {\n",
       "        vertical-align: top;\n",
       "    }\n",
       "\n",
       "    .dataframe thead th {\n",
       "        text-align: right;\n",
       "    }\n",
       "</style>\n",
       "<table border=\"1\" class=\"dataframe\">\n",
       "  <thead>\n",
       "    <tr style=\"text-align: right;\">\n",
       "      <th></th>\n",
       "      <th>Country</th>\n",
       "      <th>Year</th>\n",
       "      <th>Sex</th>\n",
       "      <th>Age Group</th>\n",
       "      <th>Suicide Rate (per 100 000)</th>\n",
       "      <th>Region</th>\n",
       "      <th>Specification</th>\n",
       "      <th>SpatialDim</th>\n",
       "    </tr>\n",
       "  </thead>\n",
       "  <tbody>\n",
       "    <tr>\n",
       "      <th>5913</th>\n",
       "      <td>Lesotho</td>\n",
       "      <td>2015</td>\n",
       "      <td>BTSX</td>\n",
       "      <td>None</td>\n",
       "      <td>92.4021</td>\n",
       "      <td>Africa</td>\n",
       "      <td>None</td>\n",
       "      <td>LSO</td>\n",
       "    </tr>\n",
       "    <tr>\n",
       "      <th>4167</th>\n",
       "      <td>Guyana</td>\n",
       "      <td>2015</td>\n",
       "      <td>BTSX</td>\n",
       "      <td>None</td>\n",
       "      <td>37.3274</td>\n",
       "      <td>South America</td>\n",
       "      <td>None</td>\n",
       "      <td>SA</td>\n",
       "    </tr>\n",
       "    <tr>\n",
       "      <th>9347</th>\n",
       "      <td>Eswatini</td>\n",
       "      <td>2015</td>\n",
       "      <td>BTSX</td>\n",
       "      <td>None</td>\n",
       "      <td>35.0677</td>\n",
       "      <td>Africa</td>\n",
       "      <td>None</td>\n",
       "      <td>SWZ</td>\n",
       "    </tr>\n",
       "    <tr>\n",
       "      <th>5996</th>\n",
       "      <td>Lithuania</td>\n",
       "      <td>2015</td>\n",
       "      <td>BTSX</td>\n",
       "      <td>None</td>\n",
       "      <td>34.8585</td>\n",
       "      <td>Europe</td>\n",
       "      <td>None</td>\n",
       "      <td>LTU</td>\n",
       "    </tr>\n",
       "    <tr>\n",
       "      <th>8323</th>\n",
       "      <td>Russian Federation</td>\n",
       "      <td>2015</td>\n",
       "      <td>BTSX</td>\n",
       "      <td>None</td>\n",
       "      <td>32.0482</td>\n",
       "      <td>Europe</td>\n",
       "      <td>None</td>\n",
       "      <td>RUS</td>\n",
       "    </tr>\n",
       "  </tbody>\n",
       "</table>\n",
       "</div>"
      ],
      "text/plain": [
       "                 Country  Year   Sex Age Group  Suicide Rate (per 100 000)  \\\n",
       "5913             Lesotho  2015  BTSX      None                     92.4021   \n",
       "4167              Guyana  2015  BTSX      None                     37.3274   \n",
       "9347            Eswatini  2015  BTSX      None                     35.0677   \n",
       "5996           Lithuania  2015  BTSX      None                     34.8585   \n",
       "8323  Russian Federation  2015  BTSX      None                     32.0482   \n",
       "\n",
       "             Region Specification SpatialDim  \n",
       "5913         Africa          None        LSO  \n",
       "4167  South America          None         SA  \n",
       "9347         Africa          None        SWZ  \n",
       "5996         Europe          None        LTU  \n",
       "8323         Europe          None        RUS  "
      ]
     },
     "execution_count": 1863,
     "metadata": {},
     "output_type": "execute_result"
    }
   ],
   "source": [
    "df_raw[(df_raw[\"Specification\"] != \"AGEGROUP\") & (df_raw[\"Sex\"] == \"BTSX\") & (df_raw[\"Year\"] == 2015)].sort_values(by=[\"Suicide Rate (per 100 000)\"], ascending = False).head()"
   ]
  },
  {
   "cell_type": "markdown",
   "id": "319c5553",
   "metadata": {},
   "source": [
    "### Data Saving"
   ]
  },
  {
   "cell_type": "markdown",
   "id": "38b3da70",
   "metadata": {},
   "source": [
    "Now we can write our 'clean' data to our designated directory that will be used in our acttual analysis: "
   ]
  },
  {
   "cell_type": "code",
   "execution_count": 1864,
   "id": "0f1ebc9c",
   "metadata": {},
   "outputs": [
    {
     "name": "stdout",
     "output_type": "stream",
     "text": [
      "Cleaned data successfully written to data\\suicide_rates.json\n"
     ]
    }
   ],
   "source": [
    "# write it out to our clean dataset directory \n",
    "out_path = dir_data / \"suicide_rates.json\"\n",
    "\n",
    "with open(out_path, \"w\") as file_object:\n",
    "    df_raw.to_json(out_path, orient=\"index\")\n",
    "    print(\"Cleaned data successfully written to %s\" % out_path)"
   ]
  },
  {
   "cell_type": "markdown",
   "id": "28390630",
   "metadata": {},
   "source": [
    "## Data Analysis"
   ]
  },
  {
   "cell_type": "markdown",
   "id": "7e0cfca4",
   "metadata": {},
   "source": [
    "We will now analyse crude suicide rates (per 100 000 population) over two decades(2000-2019). The categories we will examine are age, sex, country, region and year.   "
   ]
  },
  {
   "cell_type": "markdown",
   "id": "ffb7dd89",
   "metadata": {},
   "source": [
    "### Data Loading"
   ]
  },
  {
   "cell_type": "markdown",
   "id": "1e35a7fa",
   "metadata": {},
   "source": [
    "We will reload the suicide data that we stored previously. Note that we could skip this step."
   ]
  },
  {
   "cell_type": "code",
   "execution_count": 1865,
   "id": "f0f57610",
   "metadata": {
    "scrolled": true
   },
   "outputs": [],
   "source": [
    "in_path = dir_data / \"suicide_rates.json\"\n",
    "\n",
    "with open(in_path, \"r\") as file_object:\n",
    "# read in clean data  \n",
    "    df = pd.read_json(in_path)\n",
    "# Note: having country as index will negatively affect how we access our df \n",
    "df = df_raw"
   ]
  },
  {
   "cell_type": "markdown",
   "id": "fa692f89",
   "metadata": {},
   "source": [
    "## Suicide rates across the world  "
   ]
  },
  {
   "cell_type": "markdown",
   "id": "882a4196",
   "metadata": {},
   "source": [
    "Before we start analysis, lets create some data strcutures with some data we will re-use:"
   ]
  },
  {
   "cell_type": "code",
   "execution_count": 1866,
   "id": "4439b3ac",
   "metadata": {},
   "outputs": [],
   "source": [
    "region = df[\"Region\"].unique().tolist()\n",
    "region.remove(\"High-income economies\") \n",
    "region.remove(\"Low-income economies\")\n",
    "region.remove(\"Lower-middle-income economies\")\n",
    "region.remove(\"Upper-middle-income economies\") \n",
    "region.remove(None)\n",
    "# Colors that we will use in various plots\n",
    "region_colors = {\"Eastern Mediterranean\":\"green\", \"Africa\":\"darkred\", \"Europe\":\"orange\", \"South America\":\"yellow\", \n",
    "                 \"North America\":\"navy\", \"Western Pacific\":\"blue\", \"South-East Asia\":\"purple\" }\n",
    "# list of years data spans \n",
    "year_list = df[\"Year\"].unique().tolist()\n",
    "year_list.sort()\n",
    "\n",
    "# economic groups \n",
    "economic_groups = [\"High-income economies\", \"Upper-middle-income economies\", \n",
    "                   \"Lower-middle-income economies\", \"Low-income economies\"]"
   ]
  },
  {
   "cell_type": "markdown",
   "id": "7c23b54e",
   "metadata": {},
   "source": [
    "Let us analyse the countries and regions with the highest suicide rates.\n",
    "\n",
    "We will look at the countries with the highest suicide rates in the world for four periods: 2000, 2005, 2010, 2015."
   ]
  },
  {
   "cell_type": "code",
   "execution_count": 1867,
   "id": "cad3b72c",
   "metadata": {},
   "outputs": [],
   "source": [
    "country = df[\"Country\"].unique().tolist()\n",
    "# some regions were stored as countreies for other purposes\n",
    "country.remove(region[0])\n",
    "country.remove(region[1])\n",
    "country.remove(region[2])\n",
    "country.remove(region[5])\n",
    "country.remove(region[6])\n",
    "country.remove(\"Americas\")\n",
    "country.remove(None)"
   ]
  },
  {
   "cell_type": "code",
   "execution_count": 1868,
   "id": "15db3587",
   "metadata": {},
   "outputs": [
    {
     "data": {
      "text/html": [
       "<div>\n",
       "<style scoped>\n",
       "    .dataframe tbody tr th:only-of-type {\n",
       "        vertical-align: middle;\n",
       "    }\n",
       "\n",
       "    .dataframe tbody tr th {\n",
       "        vertical-align: top;\n",
       "    }\n",
       "\n",
       "    .dataframe thead th {\n",
       "        text-align: right;\n",
       "    }\n",
       "</style>\n",
       "<table border=\"1\" class=\"dataframe\">\n",
       "  <thead>\n",
       "    <tr style=\"text-align: right;\">\n",
       "      <th></th>\n",
       "      <th>Country</th>\n",
       "      <th>Region</th>\n",
       "      <th>2000</th>\n",
       "      <th>2005</th>\n",
       "      <th>2010</th>\n",
       "      <th>2015</th>\n",
       "    </tr>\n",
       "  </thead>\n",
       "  <tbody>\n",
       "    <tr>\n",
       "      <th>0</th>\n",
       "      <td>Afghanistan</td>\n",
       "      <td>Eastern Mediterranean</td>\n",
       "      <td>4.91</td>\n",
       "      <td>4.97</td>\n",
       "      <td>4.27</td>\n",
       "      <td>3.97</td>\n",
       "    </tr>\n",
       "    <tr>\n",
       "      <th>1</th>\n",
       "      <td>Angola</td>\n",
       "      <td>Africa</td>\n",
       "      <td>8.71</td>\n",
       "      <td>8.06</td>\n",
       "      <td>6.97</td>\n",
       "      <td>6.47</td>\n",
       "    </tr>\n",
       "    <tr>\n",
       "      <th>2</th>\n",
       "      <td>Albania</td>\n",
       "      <td>Europe</td>\n",
       "      <td>4.92</td>\n",
       "      <td>7.47</td>\n",
       "      <td>7.83</td>\n",
       "      <td>4.76</td>\n",
       "    </tr>\n",
       "    <tr>\n",
       "      <th>3</th>\n",
       "      <td>United Arab Emirates</td>\n",
       "      <td>Eastern Mediterranean</td>\n",
       "      <td>8.60</td>\n",
       "      <td>7.88</td>\n",
       "      <td>8.38</td>\n",
       "      <td>6.47</td>\n",
       "    </tr>\n",
       "    <tr>\n",
       "      <th>4</th>\n",
       "      <td>Argentina</td>\n",
       "      <td>South America</td>\n",
       "      <td>9.11</td>\n",
       "      <td>8.62</td>\n",
       "      <td>8.55</td>\n",
       "      <td>8.30</td>\n",
       "    </tr>\n",
       "  </tbody>\n",
       "</table>\n",
       "</div>"
      ],
      "text/plain": [
       "                Country                 Region  2000  2005  2010  2015\n",
       "0           Afghanistan  Eastern Mediterranean  4.91  4.97  4.27  3.97\n",
       "1                Angola                 Africa  8.71  8.06  6.97  6.47\n",
       "2               Albania                 Europe  4.92  7.47  7.83  4.76\n",
       "3  United Arab Emirates  Eastern Mediterranean  8.60  7.88  8.38  6.47\n",
       "4             Argentina          South America  9.11  8.62  8.55  8.30"
      ]
     },
     "execution_count": 1868,
     "metadata": {},
     "output_type": "execute_result"
    }
   ],
   "source": [
    "# the year key represent the suicide rate of a country in that year \n",
    "temp_dict = {\"Country\": [], \"Region\": [], \"2000\":[], \"2005\":[], \"2010\":[], \"2015\":[]} \n",
    "\n",
    "for x in range(len(country)):\n",
    "    \n",
    "    temp_dict[\"Country\"].append(country[x])\n",
    "   \n",
    "    temp_dict[\"Region\"].append(df[(df[\"Country\"] == country[x]) & (df[\"Specification\"] != \"AGEGROUP\")]\n",
    "                               [\"Region\"].unique()[0])\n",
    "    # assign each year have its value in all countries respectively   \n",
    "    temp_dict[\"2000\"].append(df[(df[\"Country\"]==country[x]) & (df[\"Sex\"]==\"BTSX\") & (df[\"Year\"] == 2000) & (df[\"Specification\"] != \"AGEGROUP\")]  \n",
    "                            [\"Suicide Rate (per 100 000)\"].tolist()[0])\n",
    "    \n",
    "    temp_dict[\"2005\"].append(df[(df[\"Country\"]==country[x]) & (df[\"Sex\"]==\"BTSX\") & (df[\"Year\"] == 2005) & (df[\"Specification\"] != \"AGEGROUP\")]  \n",
    "                            [\"Suicide Rate (per 100 000)\"].tolist()[0])\n",
    "    \n",
    "    temp_dict[\"2010\"].append(df[(df[\"Country\"]==country[x]) & (df[\"Sex\"]==\"BTSX\") & (df[\"Year\"] == 2010) & (df[\"Specification\"] != \"AGEGROUP\")]  \n",
    "                            [\"Suicide Rate (per 100 000)\"].tolist()[0])\n",
    "    \n",
    "    temp_dict[\"2015\"].append(df[(df[\"Country\"]==country[x]) & (df[\"Sex\"]==\"BTSX\") & (df[\"Year\"] == 2015) & (df[\"Specification\"] != \"AGEGROUP\")]  \n",
    "                            [\"Suicide Rate (per 100 000)\"].tolist()[0])\n",
    "    \n",
    "        \n",
    "df_rate_reg = pd.DataFrame.from_dict(temp_dict)\n",
    "df_rate_reg.head()"
   ]
  },
  {
   "cell_type": "markdown",
   "id": "55258143",
   "metadata": {},
   "source": [
    "Let's look at the 5 countries that have the highest suicide rates for four time periods and in what regions they are in. \n",
    "\n",
    "We will make dataframes for each year: 2000, 2005, 2010, and 2015. "
   ]
  },
  {
   "cell_type": "code",
   "execution_count": 1869,
   "id": "fdedf4bb",
   "metadata": {},
   "outputs": [
    {
     "data": {
      "text/html": [
       "<div>\n",
       "<style scoped>\n",
       "    .dataframe tbody tr th:only-of-type {\n",
       "        vertical-align: middle;\n",
       "    }\n",
       "\n",
       "    .dataframe tbody tr th {\n",
       "        vertical-align: top;\n",
       "    }\n",
       "\n",
       "    .dataframe thead th {\n",
       "        text-align: right;\n",
       "    }\n",
       "</style>\n",
       "<table border=\"1\" class=\"dataframe\">\n",
       "  <thead>\n",
       "    <tr style=\"text-align: right;\">\n",
       "      <th></th>\n",
       "      <th>Suicide Rate (per 100 000)</th>\n",
       "      <th>Region</th>\n",
       "    </tr>\n",
       "    <tr>\n",
       "      <th>Country</th>\n",
       "      <th></th>\n",
       "      <th></th>\n",
       "    </tr>\n",
       "  </thead>\n",
       "  <tbody>\n",
       "    <tr>\n",
       "      <th>Lesotho</th>\n",
       "      <td>92.4021</td>\n",
       "      <td>Africa</td>\n",
       "    </tr>\n",
       "    <tr>\n",
       "      <th>Guyana</th>\n",
       "      <td>37.3274</td>\n",
       "      <td>South America</td>\n",
       "    </tr>\n",
       "    <tr>\n",
       "      <th>Eswatini</th>\n",
       "      <td>35.0677</td>\n",
       "      <td>Africa</td>\n",
       "    </tr>\n",
       "    <tr>\n",
       "      <th>Lithuania</th>\n",
       "      <td>34.8585</td>\n",
       "      <td>Europe</td>\n",
       "    </tr>\n",
       "    <tr>\n",
       "      <th>Russian Federation</th>\n",
       "      <td>32.0482</td>\n",
       "      <td>Europe</td>\n",
       "    </tr>\n",
       "  </tbody>\n",
       "</table>\n",
       "</div>"
      ],
      "text/plain": [
       "                    Suicide Rate (per 100 000)         Region\n",
       "Country                                                      \n",
       "Lesotho                                92.4021         Africa\n",
       "Guyana                                 37.3274  South America\n",
       "Eswatini                               35.0677         Africa\n",
       "Lithuania                              34.8585         Europe\n",
       "Russian Federation                     32.0482         Europe"
      ]
     },
     "execution_count": 1869,
     "metadata": {},
     "output_type": "execute_result"
    }
   ],
   "source": [
    "df_2000 = df.drop(columns = [\"Age Group\", \"Specification\", \"SpatialDim\", \"Sex\", \"Year\"])[(df[\"Specification\"] != \"AGEGROUP\") & \n",
    "                                                                                 (df[\"Sex\"] == \"BTSX\") & \n",
    "                                                                                 (df[\"Year\"] == 2000)].sort_values(by=[\"Suicide Rate (per 100 000)\"], ascending = False).head().set_index(\"Country\")\n",
    "\n",
    "df_2005 = df.drop(columns = [\"Age Group\", \"Specification\", \"SpatialDim\", \"Sex\", \"Year\"])[(df[\"Specification\"] != \"AGEGROUP\") & \n",
    "                                                                                 (df[\"Sex\"] == \"BTSX\") & \n",
    "                                                                                 (df[\"Year\"] == 2005)].sort_values(by=[\"Suicide Rate (per 100 000)\"], ascending = False).head().set_index(\"Country\")\n",
    "\n",
    "df_2010 = df.drop(columns = [\"Age Group\", \"Specification\", \"SpatialDim\", \"Sex\", \"Year\"])[(df[\"Specification\"] != \"AGEGROUP\") & \n",
    "                                                                                 (df[\"Sex\"] == \"BTSX\") & \n",
    "                                                                                 (df[\"Year\"] == 2010)].sort_values(by=[\"Suicide Rate (per 100 000)\"], ascending = False).head().set_index(\"Country\")\n",
    "\n",
    "df_2015 = df.drop(columns = [\"Age Group\", \"Specification\", \"SpatialDim\", \"Sex\", \"Year\"])[(df[\"Specification\"] != \"AGEGROUP\") & \n",
    "                                                                                 (df[\"Sex\"] == \"BTSX\") & \n",
    "                                                                                 (df[\"Year\"] == 2015)].sort_values(by=[\"Suicide Rate (per 100 000)\"], ascending = False).head().set_index(\"Country\")\n",
    "# print out 2015 results as an exapmle\n",
    "df_2015 "
   ]
  },
  {
   "cell_type": "code",
   "execution_count": 1870,
   "id": "53784a42",
   "metadata": {},
   "outputs": [
    {
     "data": {
      "image/png": "[encoded data removed]",
      "text/plain": [
       "<Figure size 1080x576 with 4 Axes>"
      ]
     },
     "metadata": {
      "needs_background": "light"
     },
     "output_type": "display_data"
    }
   ],
   "source": [
    "fig = plt.figure(figsize=(15,8))\n",
    "\n",
    "# create subplot for each year   \n",
    "ax1 = df_2000.plot.bar(ax=fig.add_subplot(2, 2, 1), color=\"navy\")\n",
    "ax1.set_title(\"Highest suicide rates: 2000\")\n",
    "ax1.set_ylim(0, 100)\n",
    "ax1.set_xlabel(None)\n",
    "ax1.set_ylabel(\"Suicide rate (per 100 000)\")\n",
    "# adjust the x-axis label rotation\n",
    "plt.xticks(rotation=30, ha='right');\n",
    "\n",
    "ax2 = df_2005.plot.bar(ax=fig.add_subplot(2, 2, 2), color=\"darkred\")\n",
    "ax2.set_title(\"Highest suicide rates: 2005\")\n",
    "ax2.set_ylim(0, 100)\n",
    "ax2.set_xlabel(None)\n",
    "plt.xticks(rotation=30, ha='right');\n",
    "\n",
    "ax3 = df_2010.plot.bar(ax=fig.add_subplot(2, 2, 3), color=\"darkgreen\")\n",
    "ax3.set_title(\"Highest suicide rates: 2010\")\n",
    "ax3.set_ylim(0, 100 )\n",
    "ax3.set_ylabel(\"Suicide rate (per 100 000)\")\n",
    "plt.xticks(rotation = 30, ha='right');\n",
    "\n",
    "ax4 = df_2015.plot.bar(ax=fig.add_subplot(2, 2, 4), color=\"black\")\n",
    "ax4.set_title(\"Highest suicide rates: 2015\")\n",
    "ax4.set_ylim(0, 100)\n",
    "plt.xticks(rotation = 30, ha='right');\n",
    "# adjust spacing of plots\n",
    "plt.subplots_adjust(hspace=0.5)"
   ]
  },
  {
   "cell_type": "markdown",
   "id": "27875525",
   "metadata": {},
   "source": [
    "From the above plots, there appears to be a trend in the countries with the highest suicide rates over the last two decades. In 2000, all the countries with the highest rates were in Europe, more specifically in Eastern Europe. Over the years this trend has continued, however Eswantini and Lesotho have also made Africa appear as a region with extremely high suicide rates as well. Lesotho has held the title of the country with the highest suicide rate in the world for the last decade. \n",
    "\n",
    "Suicide is a hugely sensitive and complex issue with a multitude of causes for why one would be driven to mental place where they feel like the only option is to end their own life. The very nature of a death by suicide means we can never fully know the reasons behind it. \n",
    "\n",
    "That said, the trend of these particular countries continuously having the highest suicide rates over several decades begs the question as to why. \n",
    "\n",
    "First let us look at our data from a broader perspective. We will now analyse regions as a whole because although these countries have the highest suicide rates in the world they could be outliers in their regions, so we will examine.  "
   ]
  },
  {
   "cell_type": "markdown",
   "id": "2a4b624c",
   "metadata": {},
   "source": [
    "## Suicide rates by region"
   ]
  },
  {
   "cell_type": "markdown",
   "id": "b53048da",
   "metadata": {},
   "source": [
    "We will use line graphs to represent the average suicide rate in each region over two decades(2000-2019). "
   ]
  },
  {
   "cell_type": "code",
   "execution_count": 1871,
   "id": "8d8f520d",
   "metadata": {},
   "outputs": [
    {
     "data": {
      "text/html": [
       "<div>\n",
       "<style scoped>\n",
       "    .dataframe tbody tr th:only-of-type {\n",
       "        vertical-align: middle;\n",
       "    }\n",
       "\n",
       "    .dataframe tbody tr th {\n",
       "        vertical-align: top;\n",
       "    }\n",
       "\n",
       "    .dataframe thead th {\n",
       "        text-align: right;\n",
       "    }\n",
       "</style>\n",
       "<table border=\"1\" class=\"dataframe\">\n",
       "  <thead>\n",
       "    <tr style=\"text-align: right;\">\n",
       "      <th></th>\n",
       "      <th>Eastern Mediterranean</th>\n",
       "      <th>Africa</th>\n",
       "      <th>Europe</th>\n",
       "      <th>South America</th>\n",
       "      <th>North America</th>\n",
       "      <th>Western Pacific</th>\n",
       "      <th>South-East Asia</th>\n",
       "    </tr>\n",
       "    <tr>\n",
       "      <th>Year</th>\n",
       "      <th></th>\n",
       "      <th></th>\n",
       "      <th></th>\n",
       "      <th></th>\n",
       "      <th></th>\n",
       "      <th></th>\n",
       "      <th></th>\n",
       "    </tr>\n",
       "  </thead>\n",
       "  <tbody>\n",
       "    <tr>\n",
       "      <th>2000</th>\n",
       "      <td>5.55</td>\n",
       "      <td>10.93</td>\n",
       "      <td>17.37</td>\n",
       "      <td>7.69</td>\n",
       "      <td>8.23</td>\n",
       "      <td>12.34</td>\n",
       "      <td>9.49</td>\n",
       "    </tr>\n",
       "    <tr>\n",
       "      <th>2001</th>\n",
       "      <td>5.63</td>\n",
       "      <td>10.63</td>\n",
       "      <td>17.12</td>\n",
       "      <td>7.88</td>\n",
       "      <td>8.07</td>\n",
       "      <td>12.16</td>\n",
       "      <td>8.82</td>\n",
       "    </tr>\n",
       "    <tr>\n",
       "      <th>2002</th>\n",
       "      <td>5.60</td>\n",
       "      <td>10.55</td>\n",
       "      <td>16.93</td>\n",
       "      <td>8.19</td>\n",
       "      <td>8.07</td>\n",
       "      <td>12.15</td>\n",
       "      <td>8.58</td>\n",
       "    </tr>\n",
       "    <tr>\n",
       "      <th>2003</th>\n",
       "      <td>5.58</td>\n",
       "      <td>10.41</td>\n",
       "      <td>16.51</td>\n",
       "      <td>8.09</td>\n",
       "      <td>7.86</td>\n",
       "      <td>12.54</td>\n",
       "      <td>8.36</td>\n",
       "    </tr>\n",
       "    <tr>\n",
       "      <th>2004</th>\n",
       "      <td>5.53</td>\n",
       "      <td>10.38</td>\n",
       "      <td>16.21</td>\n",
       "      <td>8.09</td>\n",
       "      <td>7.95</td>\n",
       "      <td>12.50</td>\n",
       "      <td>8.26</td>\n",
       "    </tr>\n",
       "  </tbody>\n",
       "</table>\n",
       "</div>"
      ],
      "text/plain": [
       "      Eastern Mediterranean  Africa  Europe  South America  North America  \\\n",
       "Year                                                                        \n",
       "2000                   5.55   10.93   17.37           7.69           8.23   \n",
       "2001                   5.63   10.63   17.12           7.88           8.07   \n",
       "2002                   5.60   10.55   16.93           8.19           8.07   \n",
       "2003                   5.58   10.41   16.51           8.09           7.86   \n",
       "2004                   5.53   10.38   16.21           8.09           7.95   \n",
       "\n",
       "      Western Pacific  South-East Asia  \n",
       "Year                                    \n",
       "2000            12.34             9.49  \n",
       "2001            12.16             8.82  \n",
       "2002            12.15             8.58  \n",
       "2003            12.54             8.36  \n",
       "2004            12.50             8.26  "
      ]
     },
     "execution_count": 1871,
     "metadata": {},
     "output_type": "execute_result"
    }
   ],
   "source": [
    "# temporary dict to store data before we turn into df\n",
    "temp_dict = {\"Year\": [], \"Eastern Mediterranean\":[], \"Africa\":[], \"Europe\":[], \"South America\":[], \n",
    "             \"North America\":[], \"Western Pacific\": [], \"South-East Asia\":[]}\n",
    "# calculate average suicide rate in each region for every year: 2000-2019 and store in temp_dict\n",
    "for year in year_list:\n",
    "    temp_dict[\"Year\"].append(year)\n",
    "    \n",
    "    temp_dict[\"Eastern Mediterranean\"].append(round(df[(df[\"Year\"] == year ) & (df[\"Region\"] == \"Eastern Mediterranean\") & (df[\"Sex\"] == \"BTSX\") & \n",
    "                                                (df[\"Specification\"] != \"AGEGROUP\")][\"Suicide Rate (per 100 000)\"].mean(), 2))\n",
    "    \n",
    "    temp_dict[\"Africa\"].append(round(df[(df[\"Year\"] == year ) & (df[\"Region\"] == \"Africa\") & (df[\"Sex\"] == \"BTSX\") & \n",
    "                                                (df[\"Specification\"] != \"AGEGROUP\")][\"Suicide Rate (per 100 000)\"].mean(), 2))\n",
    "    \n",
    "    temp_dict[\"Europe\"].append(round(df[(df[\"Year\"] == year ) & (df[\"Region\"] == \"Europe\") & (df[\"Sex\"] == \"BTSX\") & \n",
    "                                                (df[\"Specification\"] != \"AGEGROUP\")][\"Suicide Rate (per 100 000)\"].mean(), 2))\n",
    "    \n",
    "    temp_dict[\"South America\"].append(round(df[(df[\"Year\"] == year ) & (df[\"Region\"] == \"South America\") & (df[\"Sex\"] == \"BTSX\") & \n",
    "                                                (df[\"Specification\"] != \"AGEGROUP\")][\"Suicide Rate (per 100 000)\"].mean(), 2))\n",
    "    \n",
    "    temp_dict[\"North America\"].append(round(df[(df[\"Year\"] == year ) & (df[\"Region\"] == \"North America\") & (df[\"Sex\"] == \"BTSX\") & \n",
    "                                                (df[\"Specification\"] != \"AGEGROUP\")][\"Suicide Rate (per 100 000)\"].mean(), 2))\n",
    "    \n",
    "    temp_dict[\"Western Pacific\"].append(round(df[(df[\"Year\"] == year ) & (df[\"Region\"] == \"Western Pacific\") & (df[\"Sex\"] == \"BTSX\") & \n",
    "                                                (df[\"Specification\"] != \"AGEGROUP\")][\"Suicide Rate (per 100 000)\"].mean(), 2))\n",
    "   \n",
    "    temp_dict[\"South-East Asia\"].append(round(df[(df[\"Year\"] == year ) & (df[\"Region\"] == \"South-East Asia\") & (df[\"Sex\"] == \"BTSX\") & \n",
    "                                                (df[\"Specification\"] != \"AGEGROUP\")][\"Suicide Rate (per 100 000)\"].mean(), 2))\n",
    "    \n",
    "df_reg_rate = pd.DataFrame.from_dict(temp_dict).set_index(\"Year\")\n",
    "df_reg_rate.head()"
   ]
  },
  {
   "cell_type": "markdown",
   "id": "44a90e0b",
   "metadata": {},
   "source": [
    "Now we have our DataFrame of the average suicide rates in each region over two decades, we can represent it as a line graph and then analyse:  "
   ]
  },
  {
   "cell_type": "code",
   "execution_count": 1872,
   "id": "42f5b457",
   "metadata": {},
   "outputs": [
    {
     "data": {
      "image/png": "[encoded data removed]",
      "text/plain": [
       "<Figure size 1296x720 with 1 Axes>"
      ]
     },
     "metadata": {
      "needs_background": "light"
     },
     "output_type": "display_data"
    }
   ],
   "source": [
    "ax = df_reg_rate.plot.line(figsize=(18,10), fontsize = 12, linewidth=3)\n",
    "ax.set_title(\"Suicide rate by region, 2000 to 2019\")\n",
    "ax.set_ylim(4, 18)\n",
    "ax.yaxis.grid(True)\n",
    "ax.legend(fontsize=12)\n",
    "ax.set_ylabel(\"Suicide Rate (per 100 000)\",  fontsize = 13);\n",
    "ax.set_xlabel(\"Year\",  fontsize = 13);"
   ]
  },
  {
   "cell_type": "markdown",
   "id": "a589f804",
   "metadata": {},
   "source": [
    "From the above graph we can see that three regions have continued to have the highest suicide rates. Europe has declined in it's rate over the years, however it still remains the region with the leading number of suicides. Surpirsingly, Africa is not the ensuing region despite two of it's countries having the highest suicide rates over the last several years (Lesotho and Eswantini). Instead, the Western Pacific Region has consistently had the second highest rate. Some well known countries in this region are China, Australia, South Korea and Vietnam. Africa is then following as the region with the third highest suicide rate.\n",
    "\n",
    "South-East Asia has seen a notable decline in suicides over the last two decades while South America has seen the opposite. Most recently in 2019, the South American nation of Guyana had 65 suicides per 100 000 people, which was the third highest in the world. \n",
    "\n",
    "The Eastern Mediterranean region has a significantly lower suicide rate in comparison to other regions. In this region are countries such as Saudi Arabia and the UAE which are commonly known as countries that have high-income economies.\n",
    "\n",
    "So taking that into consideration, let's explore whether the income level of a country (e.g. high/low-income economy) has any correlation to the suicide rates in that country."
   ]
  },
  {
   "cell_type": "markdown",
   "id": "21c7af6e",
   "metadata": {},
   "source": [
    "## Correlation between suicide rates and income levels of countries "
   ]
  },
  {
   "cell_type": "markdown",
   "id": "3bf72f49",
   "metadata": {},
   "source": [
    "We have collected data for this specific analysis, so we can now store and represent it accordingly and then examine.\n",
    "\n",
    "We will use four income groups: High, Upper-middle, Lower-middle and Low income economies. \n",
    "\n",
    "<b>Note</b>: Information and groups are provided by the World Bank."
   ]
  },
  {
   "cell_type": "markdown",
   "id": "7b05bf3a",
   "metadata": {},
   "source": [
    "Low-income economies are defined as those with a GNI(Gross National Income) per capita of 1,085 USD or less in 2021; lower middle-income economies are those with a GNI per capita between 1,086 USD and 4,255 USD; upper middle-income economies are those with a GNI per capita between 4,256 USD and 13,205 USD; high-income economies are those with a GNI per capita of 13,205 USD or more. - The World Bank "
   ]
  },
  {
   "cell_type": "code",
   "execution_count": 1873,
   "id": "bea98d99",
   "metadata": {},
   "outputs": [],
   "source": [
    "# lets display the suicide rate for each economy type on a bar chart (the average over two decades)\n",
    "\n",
    "HI_rate = round(df[(df[\"Sex\"] == \"BTSX\") & (df[\"Region\"] == \"High-income economies\")][\"Suicide Rate (per 100 000)\"].mean(), 2)\n",
    "\n",
    "UMI_rate = round(df[(df[\"Sex\"] == \"BTSX\") & (df[\"Region\"] == \"Upper-middle-income economies\")][\"Suicide Rate (per 100 000)\"].mean(), 2)\n",
    "\n",
    "LMI_rate = round(df[(df[\"Sex\"] == \"BTSX\") & (df[\"Region\"] == \"Lower-middle-income economies\")][\"Suicide Rate (per 100 000)\"].mean(), 2)\n",
    "\n",
    "LI_rate = round(df[(df[\"Sex\"] == \"BTSX\") & (df[\"Region\"] == \"Low-income economies\")][\"Suicide Rate (per 100 000)\"].mean(), 2)\n",
    "\n",
    "df_eco = pd.DataFrame({\"Suicide Rates (per 100 000)\": [HI_rate, UMI_rate, LMI_rate, LI_rate] }, index = economic_groups )"
   ]
  },
  {
   "cell_type": "code",
   "execution_count": 1874,
   "id": "cdab542b",
   "metadata": {},
   "outputs": [
    {
     "data": {
      "image/png": "[encoded data removed]",
      "text/plain": [
       "<Figure size 1008x432 with 1 Axes>"
      ]
     },
     "metadata": {
      "needs_background": "light"
     },
     "output_type": "display_data"
    }
   ],
   "source": [
    "# plot graph\n",
    "ax = df_eco.plot.bar(figsize=(14,6), fontsize = 11, color=\"navy\", rot = 0)\n",
    "ax.set_ylabel(\"Suicide rate (per 100 000)\", fontsize=11);"
   ]
  },
  {
   "cell_type": "markdown",
   "id": "822a3c4c",
   "metadata": {},
   "source": [
    "From the above bar chart there appears to be a stark correlation between high-income economies and higher suicide rates. The middle-income economies are levelled and low-income economies have the lowest rates. \n",
    "\n",
    "From this, we can deduce that a higher income does not equate to better mental wellbeing. This finding reinforces the adage, \"money does not buy happiness\" and in actuality countries where the majority a financially comfortable have the highest rates of suicide. \n",
    "\n",
    "This said, we must still bear in mind that there are substantially more low income than high income countries, so if we were to analyse further the reasoning for these results we would have to take that into consideration.  "
   ]
  },
  {
   "cell_type": "markdown",
   "id": "815713d2",
   "metadata": {},
   "source": [
    "## Suicide rates by gender  "
   ]
  },
  {
   "cell_type": "markdown",
   "id": "9aed090b",
   "metadata": {},
   "source": [
    "Plot the rates for both sexes over time:"
   ]
  },
  {
   "cell_type": "markdown",
   "id": "cb07e374",
   "metadata": {},
   "source": [
    "First, we need to get lists of values for gender related data. Then we will represent the results using a line plot:"
   ]
  },
  {
   "cell_type": "code",
   "execution_count": 1876,
   "id": "ed185113",
   "metadata": {},
   "outputs": [
    {
     "data": {
      "text/plain": [
       "<matplotlib.legend.Legend at 0x18b79978af0>"
      ]
     },
     "execution_count": 1876,
     "metadata": {},
     "output_type": "execute_result"
    },
    {
     "data": {
      "image/png": "[encoded data removed]",
      "text/plain": [
       "<Figure size 936x504 with 1 Axes>"
      ]
     },
     "metadata": {
      "needs_background": "light"
     },
     "output_type": "display_data"
    }
   ],
   "source": [
    "# make list of years for graphs \n",
    "year = pd.to_datetime(year_list, format=\"%Y\")\n",
    "\n",
    "# make list of global suicide rates of men \n",
    "male_glb = df[(df[\"SpatialDim\"] == \"GLOBAL\") & (df[\"Sex\"] == \"MLE\")].sort_values(\"Year\", ascending = True)\n",
    "male_glb = male_glb[\"Suicide Rate (per 100 000)\"].tolist()\n",
    "# make list of global suicide rates of women \n",
    "female_glb = df[(df[\"SpatialDim\"] == \"GLOBAL\") & (df[\"Sex\"] == \"FMLE\")].sort_values(\"Year\", ascending = True)\n",
    "female_glb = female_glb[\"Suicide Rate (per 100 000)\"].tolist()\n",
    "\n",
    "# plot graph\n",
    "fig, ax = plt.subplots(figsize=(13, 7))\n",
    "ax.plot(year, male_glb, label=\"Male\")\n",
    "ax.plot(year, female_glb, label=\"Female\")\n",
    "ax.set_ylim(0, 20 )\n",
    "\n",
    "ax.set_title(\"Male vs. Female suicide rate, World, 2000 to 2019\")\n",
    "ax.set_xlabel(\"Year\", fontsize = 11)\n",
    "ax.set_ylabel(\"Suicide Rate (per 100 000)\",  fontsize = 11)\n",
    "ax.legend()"
   ]
  },
  {
   "cell_type": "markdown",
   "id": "f7befb93",
   "metadata": {},
   "source": [
    "From the above line graph, although the suicide rates for both men and women have been decreasing, we can clearly see that suicide has been and is still more common in men than women in all countries around the world.   \n",
    "\n",
    "Worldwide, suicide rates in men are just over twice as high as for women. In 2016, as we see in the visualization, the global suicide rate for women was 5.72 deaths per 100,000; for men, it was over twice that figure at 12.85 per 100,000.\n",
    "\n",
    "The reason as to why this is the case is still being study by psychologists. However, one key element for this trend could be the stigma surrounding men and vulnerability. From a young age, boys are conditioned to not express emotion, because to express emotion is to be 'weak'. As a result of this, they learn to bottle up their problems and are therefore more likely to struggle in silence. Universal phrases like \"be a man\" and \"boys don't cry\" embody the toxic expectations for men in society."
   ]
  },
  {
   "cell_type": "markdown",
   "id": "565f7927",
   "metadata": {},
   "source": [
    "Global 2016 suicide rate of men and women:"
   ]
  },
  {
   "cell_type": "code",
   "execution_count": 1877,
   "id": "c753d8f7",
   "metadata": {},
   "outputs": [
    {
     "data": {
      "text/html": [
       "<div>\n",
       "<style scoped>\n",
       "    .dataframe tbody tr th:only-of-type {\n",
       "        vertical-align: middle;\n",
       "    }\n",
       "\n",
       "    .dataframe tbody tr th {\n",
       "        vertical-align: top;\n",
       "    }\n",
       "\n",
       "    .dataframe thead th {\n",
       "        text-align: right;\n",
       "    }\n",
       "</style>\n",
       "<table border=\"1\" class=\"dataframe\">\n",
       "  <thead>\n",
       "    <tr style=\"text-align: right;\">\n",
       "      <th></th>\n",
       "      <th>Country</th>\n",
       "      <th>Year</th>\n",
       "      <th>Suicide Rate (per 100 000)</th>\n",
       "      <th>SpatialDim</th>\n",
       "    </tr>\n",
       "    <tr>\n",
       "      <th>Sex</th>\n",
       "      <th></th>\n",
       "      <th></th>\n",
       "      <th></th>\n",
       "      <th></th>\n",
       "    </tr>\n",
       "  </thead>\n",
       "  <tbody>\n",
       "    <tr>\n",
       "      <th>FMLE</th>\n",
       "      <td>None</td>\n",
       "      <td>2016</td>\n",
       "      <td>5.7200</td>\n",
       "      <td>GLOBAL</td>\n",
       "    </tr>\n",
       "    <tr>\n",
       "      <th>MLE</th>\n",
       "      <td>None</td>\n",
       "      <td>2016</td>\n",
       "      <td>12.8563</td>\n",
       "      <td>GLOBAL</td>\n",
       "    </tr>\n",
       "  </tbody>\n",
       "</table>\n",
       "</div>"
      ],
      "text/plain": [
       "     Country  Year  Suicide Rate (per 100 000) SpatialDim\n",
       "Sex                                                      \n",
       "FMLE    None  2016                      5.7200     GLOBAL\n",
       "MLE     None  2016                     12.8563     GLOBAL"
      ]
     },
     "execution_count": 1877,
     "metadata": {},
     "output_type": "execute_result"
    }
   ],
   "source": [
    " df.drop(columns = [\"Age Group\", \"Region\", \"Specification\"])[(df[\"SpatialDim\"] == \"GLOBAL\") & (df[\"Sex\"] != \"BTSX\") & (df[\"Year\"] == 2016)].set_index(\"Sex\")"
   ]
  },
  {
   "cell_type": "markdown",
   "id": "81f0fb9d",
   "metadata": {},
   "source": [
    "Visualisation of the ratio of male to female suicides represented as a pie chart:"
   ]
  },
  {
   "cell_type": "code",
   "execution_count": 1878,
   "id": "72f75315",
   "metadata": {},
   "outputs": [
    {
     "data": {
      "image/png": "[encoded data removed]",
      "text/plain": [
       "<Figure size 576x576 with 1 Axes>"
      ]
     },
     "metadata": {},
     "output_type": "display_data"
    }
   ],
   "source": [
    "male_glb = round(df[(df[\"SpatialDim\"] == \"GLOBAL\") & (df[\"Sex\"] == \"MLE\")][\"Suicide Rate (per 100 000)\"].mean(), 2)\n",
    "female_glb = round(df[(df[\"SpatialDim\"] == \"GLOBAL\") & (df[\"Sex\"] == \"FMLE\")][\"Suicide Rate (per 100 000)\"].mean(), 2)\n",
    "\n",
    "# get ratio numbers as a percentage \n",
    "total = male_glb + female_glb\n",
    "\n",
    "male_glb = (male_glb/total) * 100\n",
    "female_glb = round((female_glb/total) * 100, 1)\n",
    "\n",
    "# make df to be used for chart \n",
    "df_gender = pd.DataFrame({\"% of suicides\": [male_glb, female_glb]}, index=[\"Male\", \"Female\"])\n",
    "# plot pie chart\n",
    "ax = df_gender.plot.pie(y=\"% of suicides\", figsize=(8, 8), autopct='%1.1f%%', fontsize = 14, textprops={'color':\"w\"})\n",
    "ax.set_ylabel(None);\n",
    "ax.set_title(\"Male-to-female ratio of suicides Globally (from 2000-2019)\", fontsize = 13);"
   ]
  },
  {
   "cell_type": "markdown",
   "id": "a8cfbf6a",
   "metadata": {},
   "source": [
    "## Trajectory of suicide rates over the years "
   ]
  },
  {
   "cell_type": "markdown",
   "id": "3e3d9bf3",
   "metadata": {},
   "source": [
    "Let us see if see if suicide rates have increased or decreeased over the last 20 years:"
   ]
  },
  {
   "cell_type": "code",
   "execution_count": 1879,
   "id": "cb34e161",
   "metadata": {},
   "outputs": [
    {
     "data": {
      "image/png": "[encoded data removed]",
      "text/plain": [
       "<Figure size 936x504 with 1 Axes>"
      ]
     },
     "metadata": {
      "needs_background": "light"
     },
     "output_type": "display_data"
    }
   ],
   "source": [
    "# make list of years for graphs \n",
    "year = pd.to_datetime(year_list, format=\"%Y\")\n",
    "\n",
    "# make list of global suicide rates \n",
    "glb = df[(df[\"SpatialDim\"] == \"GLOBAL\") & (df[\"Sex\"] == \"BTSX\")].sort_values(\"Year\", ascending = True)\n",
    "glb = glb[\"Suicide Rate (per 100 000)\"].tolist()\n",
    "\n",
    "# plot graph\n",
    "fig, ax = plt.subplots(figsize=(13, 7))\n",
    "ax.plot(year, glb, label=\"Rate\")\n",
    "ax.set_ylim(5, 15)\n",
    "ax.set_title(\"Trajectory of suicide rates, World, 2000 to 2019\")\n",
    "ax.set_xlabel(\"Year\", fontsize = 11)\n",
    "ax.set_ylabel(\"Suicide Rate (per 100 000)\",  fontsize = 11)\n",
    "ax.yaxis.grid(True)\n",
    "ax.xaxis.grid(True)\n",
    "ax.legend();"
   ]
  },
  {
   "cell_type": "markdown",
   "id": "cb29b812",
   "metadata": {},
   "source": [
    "From the above line graph we can see a decrease in suicide rates fromm 2000 till 2016, however in that year it plateaus. In general though, we can definitely see this trajectory as a positive for humanity. "
   ]
  },
  {
   "cell_type": "markdown",
   "id": "0a802994",
   "metadata": {},
   "source": [
    "## Suicide rates by age "
   ]
  },
  {
   "cell_type": "markdown",
   "id": "c2390bf3",
   "metadata": {},
   "source": [
    "We will look at how the rate of suicide differs amongst various age groups (Period - 2019) "
   ]
  },
  {
   "cell_type": "markdown",
   "id": "f0a96739",
   "metadata": {},
   "source": [
    "### Regional"
   ]
  },
  {
   "cell_type": "markdown",
   "id": "401e5c75",
   "metadata": {},
   "source": [
    "First we need to merge data for each age group in each region. Then we can analyse both regionally and globally."
   ]
  },
  {
   "cell_type": "markdown",
   "id": "6925b83c",
   "metadata": {},
   "source": [
    "The regions are:"
   ]
  },
  {
   "cell_type": "code",
   "execution_count": 1880,
   "id": "9e483826",
   "metadata": {},
   "outputs": [
    {
     "name": "stdout",
     "output_type": "stream",
     "text": [
      "['Eastern Mediterranean', 'Africa', 'Europe', 'South America', 'North America', 'Western Pacific', 'South-East Asia']\n"
     ]
    }
   ],
   "source": [
    "print(region)"
   ]
  },
  {
   "cell_type": "markdown",
   "id": "52faa181",
   "metadata": {},
   "source": [
    "The age groups are: 15-24, 25-54, 55-74, 75+"
   ]
  },
  {
   "cell_type": "markdown",
   "id": "2e9a5cd6",
   "metadata": {},
   "source": [
    "To acquire the above age groups we will have to merge the current age groups our data is split into, then get an average for each.  "
   ]
  },
  {
   "cell_type": "code",
   "execution_count": 1881,
   "id": "92370d25",
   "metadata": {},
   "outputs": [
    {
     "name": "stdout",
     "output_type": "stream",
     "text": [
      "['YEARS15-24', 'YEARS25-34', 'YEARS35-44', 'YEARS45-54', 'YEARS55-64', 'YEARS65-74', 'YEARS75-84', 'YEARS85PLUS']\n"
     ]
    }
   ],
   "source": [
    "age_group = df[\"Age Group\"].unique().tolist()\n",
    "# Note: some age groups are redundant, so we remove them\n",
    "age_group.remove(\"YEARS15-19\")\n",
    "age_group.remove(\"YEARS15-29\")\n",
    "age_group.remove(\"YEARS30-49\")\n",
    "age_group.remove(None)\n",
    "print(age_group)"
   ]
  },
  {
   "cell_type": "markdown",
   "id": "e2dd14ed",
   "metadata": {},
   "source": [
    "We will use a single DataFrame to store suicide rates for all age groups in each region. \n",
    "\n",
    "A dict will be used to store our data before we convert it to a df:"
   ]
  },
  {
   "cell_type": "code",
   "execution_count": 1882,
   "id": "43e9f96a",
   "metadata": {},
   "outputs": [
    {
     "data": {
      "text/html": [
       "<div>\n",
       "<style scoped>\n",
       "    .dataframe tbody tr th:only-of-type {\n",
       "        vertical-align: middle;\n",
       "    }\n",
       "\n",
       "    .dataframe tbody tr th {\n",
       "        vertical-align: top;\n",
       "    }\n",
       "\n",
       "    .dataframe thead th {\n",
       "        text-align: right;\n",
       "    }\n",
       "</style>\n",
       "<table border=\"1\" class=\"dataframe\">\n",
       "  <thead>\n",
       "    <tr style=\"text-align: right;\">\n",
       "      <th></th>\n",
       "      <th>15-24 yrs</th>\n",
       "      <th>25-54 yrs</th>\n",
       "      <th>55-74 yrs</th>\n",
       "      <th>75+ yrs</th>\n",
       "    </tr>\n",
       "    <tr>\n",
       "      <th>Region</th>\n",
       "      <th></th>\n",
       "      <th></th>\n",
       "      <th></th>\n",
       "      <th></th>\n",
       "    </tr>\n",
       "  </thead>\n",
       "  <tbody>\n",
       "    <tr>\n",
       "      <th>Eastern Mediterranean</th>\n",
       "      <td>5.52</td>\n",
       "      <td>7.56</td>\n",
       "      <td>9.01</td>\n",
       "      <td>21.00</td>\n",
       "    </tr>\n",
       "    <tr>\n",
       "      <th>Africa</th>\n",
       "      <td>5.89</td>\n",
       "      <td>17.24</td>\n",
       "      <td>35.49</td>\n",
       "      <td>99.03</td>\n",
       "    </tr>\n",
       "    <tr>\n",
       "      <th>Europe</th>\n",
       "      <td>7.32</td>\n",
       "      <td>13.25</td>\n",
       "      <td>16.64</td>\n",
       "      <td>26.03</td>\n",
       "    </tr>\n",
       "    <tr>\n",
       "      <th>South America</th>\n",
       "      <td>10.65</td>\n",
       "      <td>10.88</td>\n",
       "      <td>11.84</td>\n",
       "      <td>16.81</td>\n",
       "    </tr>\n",
       "    <tr>\n",
       "      <th>North America</th>\n",
       "      <td>5.81</td>\n",
       "      <td>9.39</td>\n",
       "      <td>11.55</td>\n",
       "      <td>19.57</td>\n",
       "    </tr>\n",
       "    <tr>\n",
       "      <th>Western Pacific</th>\n",
       "      <td>14.99</td>\n",
       "      <td>15.79</td>\n",
       "      <td>14.75</td>\n",
       "      <td>31.33</td>\n",
       "    </tr>\n",
       "    <tr>\n",
       "      <th>South-East Asia</th>\n",
       "      <td>6.69</td>\n",
       "      <td>8.10</td>\n",
       "      <td>12.11</td>\n",
       "      <td>26.44</td>\n",
       "    </tr>\n",
       "  </tbody>\n",
       "</table>\n",
       "</div>"
      ],
      "text/plain": [
       "                       15-24 yrs  25-54 yrs  55-74 yrs  75+ yrs\n",
       "Region                                                         \n",
       "Eastern Mediterranean       5.52       7.56       9.01    21.00\n",
       "Africa                      5.89      17.24      35.49    99.03\n",
       "Europe                      7.32      13.25      16.64    26.03\n",
       "South America              10.65      10.88      11.84    16.81\n",
       "North America               5.81       9.39      11.55    19.57\n",
       "Western Pacific            14.99      15.79      14.75    31.33\n",
       "South-East Asia             6.69       8.10      12.11    26.44"
      ]
     },
     "execution_count": 1882,
     "metadata": {},
     "output_type": "execute_result"
    }
   ],
   "source": [
    "# make dict to store data, each region will contain all age groups and their respective values   \n",
    "temp_dict = {\"Region\": [], \"15-24 yrs\":[], \"25-54 yrs\":[], \"55-74 yrs\":[], \"75+ yrs\":[]}\n",
    "\n",
    "for x in range(len(region)):\n",
    "    \n",
    "    temp_dict[\"Region\"].append(region[x])\n",
    "    # make each row the mean value of each region  \n",
    "    temp_dict[\"15-24 yrs\"].append(round(df[(df[\"Region\"]==region[x]) & (df[\"Sex\"]==\"BTSX\") & \n",
    "                            (df[\"Age Group\"]==\"YEARS15-24\")][\"Suicide Rate (per 100 000)\"].mean(), 2))\n",
    "\n",
    "    temp_dict[\"25-54 yrs\"].append(round(df[(df[\"Region\"]==region[x]) & (df[\"Sex\"]==\"BTSX\") & ((df[\"Age Group\"]==\"YEARS25-34\")\n",
    "                               |(df[\"Age Group\"] ==\"YEARS35-44\")|(df[\"Age Group\"] ==\"YEARS45-54\"))][\"Suicide Rate (per 100 000)\"].mean(), 2))\n",
    "        \n",
    "    temp_dict[\"55-74 yrs\"].append(round(df[(df[\"Region\"]==region[x]) & (df[\"Sex\"]==\"BTSX\") & ((df[\"Age Group\"]==\"YEARS55-64\")\n",
    "                               |(df[\"Age Group\"] ==\"YEARS65-74\"))][\"Suicide Rate (per 100 000)\"].mean(), 2))\n",
    "        \n",
    "    temp_dict[\"75+ yrs\"].append(round(df[(df[\"Region\"]==region[x]) & (df[\"Sex\"]==\"BTSX\") & ((df[\"Age Group\"]==\"YEARS75-84\")\n",
    "                                 |(df[\"Age Group\"] ==\"YEARS85PLUS\"))][\"Suicide Rate (per 100 000)\"].mean(), 2))\n",
    "\n",
    "# df for all age groups in each region \n",
    "df_age_reg = pd.DataFrame.from_dict(temp_dict).set_index(\"Region\")\n",
    "df_age_reg"
   ]
  },
  {
   "cell_type": "markdown",
   "id": "900a0e0d",
   "metadata": {},
   "source": [
    "To clearly represent the average suicide rate for all age groups in each region we will use bar plots: "
   ]
  },
  {
   "cell_type": "code",
   "execution_count": 1883,
   "id": "75594c45",
   "metadata": {},
   "outputs": [
    {
     "data": {
      "image/png": "[encoded data removed]",
      "text/plain": [
       "<Figure size 1080x396 with 1 Axes>"
      ]
     },
     "metadata": {
      "needs_background": "light"
     },
     "output_type": "display_data"
    }
   ],
   "source": [
    "ax = df_age_reg.plot.bar(figsize=(15,5.5), width=0.6, fontsize = 13)\n",
    "ax.set_title(\"Suicide rate by age group, Region, 2019\")\n",
    "ax.set_ylabel(\"Suicide rate (per 100 000)\", fontsize=13)\n",
    "ax.set_xlabel(\"Region\", fontsize=13)\n",
    "ax.legend(fontsize=13)\n",
    "# adjust the x-axis label rotation\n",
    "plt.xticks(rotation=45, ha='right');\n",
    "ax.yaxis.grid(True)"
   ]
  },
  {
   "cell_type": "markdown",
   "id": "1ceab966",
   "metadata": {},
   "source": [
    "It may be general knowledge to most that suicide is one of the leading causes of death in young people."
   ]
  },
  {
   "cell_type": "markdown",
   "id": "32efa410",
   "metadata": {},
   "source": [
    "However this does not necessarily mean suicide is more likely to occur in young people than old. It is largely a reflection of the fact that older populations also die from many other causes in comparison to their younger, fitter counterparts. The causes of death in people aged 75 years and older are mostly from cardiovascular diseases, cancers, dementia and respiratory diseases. The number of suicides are still highest amongst all demographics, but lower than other causes. \n",
    "\n",
    "We can see this truth reflected in the above chart. The same general trend from region to region follows. The extreme case being the number of suicides of older people in Africa. This skewe is largely due to the suicide rate in several Southern African nations like Lesotho and Eswantini which from previous charts we know have the highest suicide rates in the world. \n",
    "\n",
    "As to why older people commit suicide more than other age groups, proffessionals believe that loneliness is possibly a leading cause.  "
   ]
  },
  {
   "cell_type": "markdown",
   "id": "374d28a7",
   "metadata": {},
   "source": [
    "### Global"
   ]
  },
  {
   "cell_type": "markdown",
   "id": "4dfca64d",
   "metadata": {},
   "source": [
    "Suicide rate by age on a global scale: "
   ]
  },
  {
   "cell_type": "code",
   "execution_count": 1884,
   "id": "ca5eadc4",
   "metadata": {},
   "outputs": [],
   "source": [
    "# get average suicide rate for each demographic \n",
    "yrs15_24 = round(df_age_reg[\"15-24 yrs\"].mean(), 2)\n",
    "yrs25_54 = round(df_age_reg[\"25-54 yrs\"].mean(), 2) \n",
    "yrs55_74 = round(df_age_reg[\"55-74 yrs\"].mean(), 2) \n",
    "yrs75plus = round(df_age_reg[\"75+ yrs\"].mean(), 2) \n",
    "# store data in df for chart \n",
    "df_age_glb = pd.DataFrame({\"Group\": [\"15-24 yrs\", \"25-54 yrs\", \"55-74 yrs\", \"75+ yrs\"],\n",
    "                           \"Suicide Rate\": [yrs15_24, yrs25_54, yrs55_74, yrs75plus]})"
   ]
  },
  {
   "cell_type": "code",
   "execution_count": 1885,
   "id": "2da9250f",
   "metadata": {},
   "outputs": [
    {
     "data": {
      "image/png": "[encoded data removed]",
      "text/plain": [
       "<Figure size 864x432 with 1 Axes>"
      ]
     },
     "metadata": {
      "needs_background": "light"
     },
     "output_type": "display_data"
    }
   ],
   "source": [
    "ax = df_age_glb.plot.barh(x=\"Group\", y=\"Suicide Rate\", figsize=(12,6)) \n",
    "ax.set_xlabel(\"Suicide rate (per 100 000)\", fontsize=12); \n",
    "ax.set_ylabel(None);\n",
    "ax.set_title(\"Suicide rate by age group, World, 2019\");"
   ]
  },
  {
   "cell_type": "markdown",
   "id": "aacf109d",
   "metadata": {},
   "source": [
    "This graph showing global figures for 2019 corresponds with the analysis given in the regional section."
   ]
  },
  {
   "cell_type": "markdown",
   "id": "57ed98c7",
   "metadata": {},
   "source": [
    "## Conclusions"
   ]
  },
  {
   "cell_type": "markdown",
   "id": "41292039",
   "metadata": {},
   "source": [
    "In this assignment we analysed the suicide rates over two decades (2000-2019) using the information of 183 countries. We focused particularly on the sex, age, country, region and economic standing of the individuals that committed suicide. \n",
    "\n",
    "Some surprising discoveries were made, such as in all parts of the world the rate of suicide amongst men is at least 3 times higher than women. \n",
    "\n",
    "Another interesting finding was the clear correlation between high-income countries and higher rates of suicide. Some may say this news is no surprise, however for many, it is still quite thought-provoking information that people who have what many chase to find happiness, still die by suicide more than those who don't have it. \n",
    "\n",
    "A challenging aspect of using this particular Suicide Rate WHO API was the fact that the neither the country name or the region was included in the initial dataset (only the country code). As a result, I had to collect and use other datasets to match the country code to the country and then to the region which in turn lead to decent amount of data preprocessing as many mergers of raw data were required.\n",
    "\n",
    "A number of appealing avenues could be considered for further analysis of this data:\n",
    "- The analysis could be extended to integrate an API that gets the 'Happiness Ranking' of each country and examine if there is a direct correlation between happy countries and low suicide rates. \n",
    "- Another avenue would be the integration of historical suicide data and explore if the growth in social media usage has caused increase in this generation self-consciousness and thus higher suicide rates in that demographic. \n",
    "- Data included about the average consumption of alcohol in each country and whether it plays a part in how high each country ranks on the list of suicide rates.  "
   ]
  }
 ],
 "metadata": {
  "kernelspec": {
   "display_name": "Python 3 (ipykernel)",
   "language": "python",
   "name": "python3"
  },
  "language_info": {
   "codemirror_mode": {
    "name": "ipython",
    "version": 3
   },
   "file_extension": ".py",
   "mimetype": "text/x-python",
   "name": "python",
   "nbconvert_exporter": "python",
   "pygments_lexer": "ipython3",
   "version": "3.9.12"
  }
 },
 "nbformat": 4,
 "nbformat_minor": 5
}
